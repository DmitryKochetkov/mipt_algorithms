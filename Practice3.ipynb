{
 "cells": [
  {
   "cell_type": "markdown",
   "metadata": {},
   "source": [
    "# Практическая работа №3"
   ]
  },
  {
   "cell_type": "markdown",
   "metadata": {},
   "source": [
    "Выполнил студент группы М06-106н Кочетков Дмитрий Андреевич."
   ]
  },
  {
   "cell_type": "markdown",
   "metadata": {},
   "source": [
    "## Постановка задачи"
   ]
  },
  {
   "cell_type": "markdown",
   "metadata": {},
   "source": [
    "Необходимо программно реализовать операции над списком, стек и очередь с использованием только стандартных структур данных языка python."
   ]
  },
  {
   "cell_type": "code",
   "execution_count": 2,
   "metadata": {},
   "outputs": [],
   "source": [
    "from random import randint, uniform"
   ]
  },
  {
   "cell_type": "markdown",
   "metadata": {},
   "source": [
    "## Реализация списка"
   ]
  },
  {
   "cell_type": "code",
   "execution_count": 3,
   "metadata": {},
   "outputs": [],
   "source": [
    "class List:\n",
    "    def __init__(self, l=list()):\n",
    "        self.data = l.copy()\n",
    "\n",
    "    def __str__(self):\n",
    "        return str(self.data)\n",
    "\n",
    "    def size(self):\n",
    "        return len(self.data)\n",
    "\n",
    "    def append(self, x):\n",
    "        self.data.append(x)\n",
    "\n",
    "    def __getitem__(self, index):\n",
    "        if index >= len(self.data) or index < 0:\n",
    "            raise IndexError('Index {} is out of range in a list of size {}'.format(index, len(self.data)))\n",
    "        return self.data[index]\n",
    "\n",
    "    def __setitem__(self, index, value):\n",
    "        if index >= len(self.data) or index < 0:\n",
    "            raise IndexError('Index {} is out of range in a list of size {}'.format(index, len(self.data)))\n",
    "        self.data[index] = value\n",
    "\n",
    "    def __partition__(self, low, high):\n",
    "        i = (low-1)         # index of smaller element\n",
    "        pivot = self.data[high]     # pivot\n",
    "    \n",
    "        for j in range(low, high):\n",
    "    \n",
    "            # If current element is smaller than or\n",
    "            # equal to pivot\n",
    "            if self.data[j] <= pivot:\n",
    "    \n",
    "                # increment index of smaller element\n",
    "                i = i+1\n",
    "                self.data[i], self.data[j] = self.data[j], self.data[i]\n",
    "    \n",
    "        self.data[i+1], self.data[high] = self.data[high], self.data[i+1]\n",
    "        return (i+1)\n",
    "\n",
    "    def sort(self):\n",
    "        def quick_sort(self, l, r):\n",
    "            if l >= r:\n",
    "                return\n",
    "            \n",
    "            pivot = self.__partition__(l, r)\n",
    "            quick_sort(self, l, pivot-1)\n",
    "            quick_sort(self, pivot+1, r)\n",
    "\n",
    "        quick_sort(self, 0, len(self.data) - 1)\n",
    "\n",
    "    def remove(self, index):\n",
    "        if index >= len(self.data) or index < 0:\n",
    "            raise IndexError('Index {} is out of range in a list of size {}'.format(index, len(self.data)))\n",
    "\n",
    "        self.data = self.data[:index] + self.data[index+1:]"
   ]
  },
  {
   "cell_type": "markdown",
   "metadata": {},
   "source": [
    "## Функция, генерирующая небольшие списки (удобно для тестирования)"
   ]
  },
  {
   "cell_type": "code",
   "execution_count": 4,
   "metadata": {},
   "outputs": [],
   "source": [
    "def random_list(size):\n",
    "    result = list()\n",
    "    for i in range(size):\n",
    "        result.append(randint(-10, 10))\n",
    "    return result"
   ]
  },
  {
   "cell_type": "markdown",
   "metadata": {},
   "source": [
    "## Задание 1: Быстрая сортировка"
   ]
  },
  {
   "cell_type": "markdown",
   "metadata": {},
   "source": [
    "Создать список на основе вводимых пользователем целых чисел (из другого списка или из файла), отсортированный по возрастанию. Метод `sort()` использовать нельзя! Вывести полученный список на экран."
   ]
  },
  {
   "cell_type": "markdown",
   "metadata": {},
   "source": [
    "### Тестирование"
   ]
  },
  {
   "cell_type": "code",
   "execution_count": 5,
   "metadata": {},
   "outputs": [
    {
     "name": "stdout",
     "output_type": "stream",
     "text": [
      "[1, 4, 7, 0, 2]\n"
     ]
    }
   ],
   "source": [
    "a = List()\n",
    "for i in range(5):\n",
    "    x = int(input())\n",
    "    a.append(x)\n",
    "print(a)"
   ]
  },
  {
   "cell_type": "code",
   "execution_count": 6,
   "metadata": {},
   "outputs": [
    {
     "name": "stdout",
     "output_type": "stream",
     "text": [
      "[0, 1, 2, 4, 7]\n"
     ]
    }
   ],
   "source": [
    "a.sort()\n",
    "print(a)"
   ]
  },
  {
   "cell_type": "markdown",
   "metadata": {},
   "source": [
    "## Задание 2: Удаление элемента из середины списка"
   ]
  },
  {
   "cell_type": "code",
   "execution_count": 7,
   "metadata": {},
   "outputs": [
    {
     "name": "stdout",
     "output_type": "stream",
     "text": [
      "[0, 1, 4, 7]\n",
      "[1, 4, 7]\n"
     ]
    }
   ],
   "source": [
    "a.remove(2)\n",
    "print(a)\n",
    "a.remove(0)\n",
    "print(a)"
   ]
  },
  {
   "cell_type": "code",
   "execution_count": 8,
   "metadata": {},
   "outputs": [
    {
     "ename": "IndexError",
     "evalue": "Index 5 is out of range in a list of size 3",
     "output_type": "error",
     "traceback": [
      "\u001b[1;31m---------------------------------------------------------------------------\u001b[0m",
      "\u001b[1;31mIndexError\u001b[0m                                Traceback (most recent call last)",
      "\u001b[1;32mC:\\Users\\DMITRY~1\\AppData\\Local\\Temp/ipykernel_736/2613193872.py\u001b[0m in \u001b[0;36m<module>\u001b[1;34m\u001b[0m\n\u001b[1;32m----> 1\u001b[1;33m \u001b[0ma\u001b[0m\u001b[1;33m.\u001b[0m\u001b[0mremove\u001b[0m\u001b[1;33m(\u001b[0m\u001b[1;36m5\u001b[0m\u001b[1;33m)\u001b[0m\u001b[1;33m\u001b[0m\u001b[1;33m\u001b[0m\u001b[0m\n\u001b[0m",
      "\u001b[1;32mC:\\Users\\DMITRY~1\\AppData\\Local\\Temp/ipykernel_736/1296830467.py\u001b[0m in \u001b[0;36mremove\u001b[1;34m(self, index)\u001b[0m\n\u001b[0;32m     52\u001b[0m     \u001b[1;32mdef\u001b[0m \u001b[0mremove\u001b[0m\u001b[1;33m(\u001b[0m\u001b[0mself\u001b[0m\u001b[1;33m,\u001b[0m \u001b[0mindex\u001b[0m\u001b[1;33m)\u001b[0m\u001b[1;33m:\u001b[0m\u001b[1;33m\u001b[0m\u001b[1;33m\u001b[0m\u001b[0m\n\u001b[0;32m     53\u001b[0m         \u001b[1;32mif\u001b[0m \u001b[0mindex\u001b[0m \u001b[1;33m>=\u001b[0m \u001b[0mlen\u001b[0m\u001b[1;33m(\u001b[0m\u001b[0mself\u001b[0m\u001b[1;33m.\u001b[0m\u001b[0mdata\u001b[0m\u001b[1;33m)\u001b[0m \u001b[1;32mor\u001b[0m \u001b[0mindex\u001b[0m \u001b[1;33m<\u001b[0m \u001b[1;36m0\u001b[0m\u001b[1;33m:\u001b[0m\u001b[1;33m\u001b[0m\u001b[1;33m\u001b[0m\u001b[0m\n\u001b[1;32m---> 54\u001b[1;33m             \u001b[1;32mraise\u001b[0m \u001b[0mIndexError\u001b[0m\u001b[1;33m(\u001b[0m\u001b[1;34m'Index {} is out of range in a list of size {}'\u001b[0m\u001b[1;33m.\u001b[0m\u001b[0mformat\u001b[0m\u001b[1;33m(\u001b[0m\u001b[0mindex\u001b[0m\u001b[1;33m,\u001b[0m \u001b[0mlen\u001b[0m\u001b[1;33m(\u001b[0m\u001b[0mself\u001b[0m\u001b[1;33m.\u001b[0m\u001b[0mdata\u001b[0m\u001b[1;33m)\u001b[0m\u001b[1;33m)\u001b[0m\u001b[1;33m)\u001b[0m\u001b[1;33m\u001b[0m\u001b[1;33m\u001b[0m\u001b[0m\n\u001b[0m\u001b[0;32m     55\u001b[0m \u001b[1;33m\u001b[0m\u001b[0m\n\u001b[0;32m     56\u001b[0m         \u001b[0mself\u001b[0m\u001b[1;33m.\u001b[0m\u001b[0mdata\u001b[0m \u001b[1;33m=\u001b[0m \u001b[0mself\u001b[0m\u001b[1;33m.\u001b[0m\u001b[0mdata\u001b[0m\u001b[1;33m[\u001b[0m\u001b[1;33m:\u001b[0m\u001b[0mindex\u001b[0m\u001b[1;33m]\u001b[0m \u001b[1;33m+\u001b[0m \u001b[0mself\u001b[0m\u001b[1;33m.\u001b[0m\u001b[0mdata\u001b[0m\u001b[1;33m[\u001b[0m\u001b[0mindex\u001b[0m\u001b[1;33m+\u001b[0m\u001b[1;36m1\u001b[0m\u001b[1;33m:\u001b[0m\u001b[1;33m]\u001b[0m\u001b[1;33m\u001b[0m\u001b[1;33m\u001b[0m\u001b[0m\n",
      "\u001b[1;31mIndexError\u001b[0m: Index 5 is out of range in a list of size 3"
     ]
    }
   ],
   "source": [
    "a.remove(5)"
   ]
  },
  {
   "cell_type": "markdown",
   "metadata": {},
   "source": [
    "## Задание 3"
   ]
  },
  {
   "cell_type": "markdown",
   "metadata": {},
   "source": [
    "Написать функцию, которая на по списку целых чисел `L` строит два списка: `L1` – из положительных элементов и `L2` – из отрицательных."
   ]
  },
  {
   "cell_type": "markdown",
   "metadata": {},
   "source": [
    "### Реализация"
   ]
  },
  {
   "cell_type": "code",
   "execution_count": 9,
   "metadata": {},
   "outputs": [],
   "source": [
    "def sign_split(l: List):\n",
    "    l1 = List()\n",
    "    l2 = List()\n",
    "\n",
    "    for item in l:\n",
    "        if type(item) != int:\n",
    "            raise ValueError('Expected list of integers')\n",
    "        \n",
    "        if item > 0:\n",
    "            l1.append(item)\n",
    "        elif item < 0:\n",
    "            l2.append(item)\n",
    "\n",
    "    return l1, l2"
   ]
  },
  {
   "cell_type": "markdown",
   "metadata": {},
   "source": [
    "### Тестирование"
   ]
  },
  {
   "cell_type": "code",
   "execution_count": null,
   "metadata": {},
   "outputs": [
    {
     "name": "stdout",
     "output_type": "stream",
     "text": [
      "[-4, -9, -3, -2, 9, 10, -2, -7, -6, 1]\n",
      "[9, 10, 1] [-4, -9, -3, -2, -2, -7, -6]\n"
     ]
    }
   ],
   "source": [
    "a = random_list(10)\n",
    "print(a)\n",
    "print(*sign_split(a))"
   ]
  },
  {
   "cell_type": "markdown",
   "metadata": {},
   "source": [
    "## Задание 4"
   ]
  },
  {
   "cell_type": "markdown",
   "metadata": {},
   "source": [
    "Написать функцию, которая по двум спискам целых чисел L1 и L2 строит новый список L, состоящий из элементов входящих в списки L1 и L2, причем если элемент входит в оба списка, то он добавляется только один раз. Использовать метод `append()` нельзя. Например, L1 = (1, 2, 2, 5), L2 = (2, 5, 7), тогда L = (1, 2, 2, 5, 7)."
   ]
  },
  {
   "cell_type": "code",
   "execution_count": 15,
   "metadata": {},
   "outputs": [],
   "source": [
    "\"\"\"\n",
    "Функция с append, написана в целях тестирования\n",
    "\"\"\"\n",
    "def problem4_with_append(l1: List, l2: List):\n",
    "    l = List()\n",
    "    l1.sort()\n",
    "    l2.sort()\n",
    "\n",
    "    i1 = 0\n",
    "    i2 = 0\n",
    "\n",
    "    while i1 < l1.size() and i2 < l2.size():\n",
    "        if l1[i1] == l2[i2]:\n",
    "            l.append(l1[i1])\n",
    "            print(1, l1[i1])\n",
    "            i1 += 1\n",
    "            i2 += 1\n",
    "        elif l1[i1] < l2[i2]:\n",
    "            l.append(l1[i1])\n",
    "            print(2, l1[i1])\n",
    "            i1 += 1\n",
    "        else:\n",
    "            l.append(l2[i2])\n",
    "            print(3, l2[i2])\n",
    "            i2 += 1\n",
    "\n",
    "    while i1 < l1.size():\n",
    "        l.append(l1[i1])\n",
    "        i1 += 1\n",
    "\n",
    "    while i2 < l2.size():\n",
    "        l.append(l2[i2])\n",
    "        i2 += 1\n",
    "\n",
    "    return l"
   ]
  },
  {
   "cell_type": "code",
   "execution_count": 16,
   "metadata": {},
   "outputs": [
    {
     "name": "stdout",
     "output_type": "stream",
     "text": [
      "2 1\n",
      "1 2\n",
      "2 2\n",
      "1 5\n",
      "[1, 2, 2, 5, 7]\n"
     ]
    }
   ],
   "source": [
    "print(problem4_with_append(List([1, 2, 2, 5]), List([2, 5, 7])))"
   ]
  },
  {
   "cell_type": "markdown",
   "metadata": {},
   "source": [
    "## Задание 5: Очередь"
   ]
  },
  {
   "cell_type": "markdown",
   "metadata": {},
   "source": [
    "### Реализация очереди"
   ]
  },
  {
   "cell_type": "code",
   "execution_count": null,
   "metadata": {},
   "outputs": [],
   "source": [
    "class Queue:\n",
    "    def __init__(self):\n",
    "        self.data = list()\n",
    "\n",
    "    def push(self, x: int):\n",
    "        self.data.append(x)\n",
    "\n",
    "    def pop(self):\n",
    "        result = self.data[0]\n",
    "        if len(self.data) > 1:\n",
    "            self.data = self.data[1:]\n",
    "        else:\n",
    "            self.data = list()\n",
    "        return result\n",
    "\n",
    "    def size(self):\n",
    "        return len(self.data)"
   ]
  },
  {
   "cell_type": "markdown",
   "metadata": {},
   "source": [
    "### Функция, генерирующая файл со случайным набором действительных чисел"
   ]
  },
  {
   "cell_type": "code",
   "execution_count": null,
   "metadata": {},
   "outputs": [],
   "source": [
    "def random_real_numbers(size):\n",
    "    with open('numbers.txt', 'w+') as f:\n",
    "        for _ in range(size):\n",
    "            f.write(str(uniform(-100, 100)) + '\\n')"
   ]
  },
  {
   "cell_type": "code",
   "execution_count": null,
   "metadata": {},
   "outputs": [],
   "source": [
    "random_real_numbers(20)"
   ]
  },
  {
   "cell_type": "markdown",
   "metadata": {},
   "source": [
    "### Решение"
   ]
  },
  {
   "cell_type": "code",
   "execution_count": null,
   "metadata": {},
   "outputs": [],
   "source": [
    "def problem5(a: List, c: float):\n",
    "    q1 = Queue()\n",
    "    q2 = Queue()\n",
    "\n",
    "    for item in a:\n",
    "        if item < c:\n",
    "            q1.push(item)\n",
    "        else:\n",
    "            q2.push(item)\n",
    "\n",
    "    result = List()\n",
    "    for i in range(q1.size()):\n",
    "        result.append(q1.pop())\n",
    "\n",
    "    for i in range(q2.size()):\n",
    "        result.append(q2.pop())\n",
    "\n",
    "    return result"
   ]
  },
  {
   "cell_type": "markdown",
   "metadata": {},
   "source": [
    "### Тестирование"
   ]
  },
  {
   "cell_type": "code",
   "execution_count": null,
   "metadata": {},
   "outputs": [
    {
     "data": {
      "text/plain": [
       "[1, -6, -6, 10, 8, -2, 0, 6, 0, -4, -7, -8, -9, 10, -4]"
      ]
     },
     "execution_count": 78,
     "metadata": {},
     "output_type": "execute_result"
    }
   ],
   "source": [
    "a = random_list(15)\n",
    "a"
   ]
  },
  {
   "cell_type": "code",
   "execution_count": null,
   "metadata": {},
   "outputs": [
    {
     "name": "stdout",
     "output_type": "stream",
     "text": [
      "[-6, -6, -2, -4, -7, -8, -9, -4, 1, 10, 8, 0, 6, 0, 10]\n"
     ]
    }
   ],
   "source": [
    "print(problem5(a, 0))"
   ]
  },
  {
   "cell_type": "markdown",
   "metadata": {},
   "source": [
    "## Задание 6: Стек"
   ]
  },
  {
   "cell_type": "code",
   "execution_count": null,
   "metadata": {},
   "outputs": [],
   "source": [
    "class Stack:\n",
    "    def __init__(self):\n",
    "        self.data = list()\n",
    "\n",
    "    def push(self, x: int):\n",
    "        self.data.append(x)\n",
    "\n",
    "    def pop(self):\n",
    "        return self.data.pop()"
   ]
  },
  {
   "cell_type": "code",
   "execution_count": null,
   "metadata": {},
   "outputs": [],
   "source": [
    "\"\"\"\n",
    "Проверяет правильность расстановки скобок в строке. Возвращает индекс первой неправильной скобки. Если ошибки нет, возвращает -1.\n",
    "\"\"\"\n",
    "def check_brackets(s: str):\n",
    "    result = 0\n",
    "    stack = Stack()\n",
    "\n",
    "    bracket_match = {\n",
    "        '(': ')',\n",
    "        '[': ']',\n",
    "        '{': '}'\n",
    "    }\n",
    "\n",
    "    for c in s:\n",
    "        if c == '(' or c == '[' or c == '{':\n",
    "            stack.push(c)\n",
    "            result += 1\n",
    "        else:\n",
    "            opening = stack.pop()\n",
    "            if bracket_match[opening] == c:\n",
    "                result += 1\n",
    "            else:\n",
    "                return result\n",
    "\n",
    "    return -1"
   ]
  },
  {
   "cell_type": "code",
   "execution_count": null,
   "metadata": {},
   "outputs": [
    {
     "name": "stdout",
     "output_type": "stream",
     "text": [
      "[({}){}()]\n",
      "-1\n"
     ]
    }
   ],
   "source": [
    "with open('file1.txt') as f:\n",
    "    s1 = f.readline()\n",
    "    print(s1)\n",
    "    print(check_brackets(s1))"
   ]
  },
  {
   "cell_type": "code",
   "execution_count": null,
   "metadata": {},
   "outputs": [
    {
     "name": "stdout",
     "output_type": "stream",
     "text": [
      "[({}{}()]\n",
      "8\n"
     ]
    }
   ],
   "source": [
    "with open('file2.txt') as f:\n",
    "    s2 = f.readline()\n",
    "    print(s2)\n",
    "    print(check_brackets(s2))"
   ]
  },
  {
   "cell_type": "markdown",
   "metadata": {},
   "source": [
    "## Вывод"
   ]
  },
  {
   "cell_type": "markdown",
   "metadata": {},
   "source": [
    "В ходе практической работы были реализованы такие структуры данных, как список, стек и очередь."
   ]
  }
 ],
 "metadata": {
  "interpreter": {
   "hash": "73e03da126b73bfff3642ec5261d56fa25c444ea595de51041687efaa60dda41"
  },
  "kernelspec": {
   "display_name": "Python 3.9.7 ('base')",
   "language": "python",
   "name": "python3"
  },
  "language_info": {
   "codemirror_mode": {
    "name": "ipython",
    "version": 3
   },
   "file_extension": ".py",
   "mimetype": "text/x-python",
   "name": "python",
   "nbconvert_exporter": "python",
   "pygments_lexer": "ipython3",
   "version": "3.9.7"
  },
  "orig_nbformat": 4
 },
 "nbformat": 4,
 "nbformat_minor": 2
}
