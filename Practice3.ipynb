{
 "cells": [
  {
   "cell_type": "markdown",
   "metadata": {},
   "source": [
    "# Практическая работа №3"
   ]
  },
  {
   "cell_type": "markdown",
   "metadata": {},
   "source": [
    "Выполнил студент группы М06-106н Кочетков Дмитрий Андреевич."
   ]
  },
  {
   "cell_type": "markdown",
   "metadata": {},
   "source": [
    "## Постановка задачи"
   ]
  },
  {
   "cell_type": "markdown",
   "metadata": {},
   "source": [
    "Необходимо программно реализовать операции над списком, стек и очередь с использованием только стандартных структур данных языка python."
   ]
  },
  {
   "cell_type": "code",
   "execution_count": 1,
   "metadata": {},
   "outputs": [],
   "source": [
    "from random import randint, uniform"
   ]
  },
  {
   "cell_type": "markdown",
   "metadata": {},
   "source": [
    "## Реализация списка"
   ]
  },
  {
   "cell_type": "code",
   "execution_count": 2,
   "metadata": {},
   "outputs": [],
   "source": [
    "class List:\n",
    "    def __init__(self, l=list()):\n",
    "        self.data = l.copy()\n",
    "\n",
    "    def __str__(self):\n",
    "        return str(self.data)\n",
    "\n",
    "    def size(self):\n",
    "        return len(self.data)\n",
    "\n",
    "    def append(self, x):\n",
    "        self.data.append(x)\n",
    "\n",
    "    def concat(self, l):\n",
    "        assert isinstance(l, List)\n",
    "        result = List(self.data.copy() + l.data.copy())\n",
    "        return result\n",
    "\n",
    "    def remove(self, x):\n",
    "        self.data.remove(x)\n",
    "\n",
    "    def __getitem__(self, index):\n",
    "        if index >= len(self.data) or index < 0:\n",
    "            raise IndexError('Index {} is out of range in a list of size {}'.format(index, len(self.data)))\n",
    "        return self.data[index]\n",
    "\n",
    "    def __setitem__(self, index, value):\n",
    "        if index >= len(self.data) or index < 0:\n",
    "            raise IndexError('Index {} is out of range in a list of size {}'.format(index, len(self.data)))\n",
    "        self.data[index] = value\n",
    "\n",
    "    def __partition__(self, low, high):\n",
    "        i = (low-1)\n",
    "        pivot = self.data[high]\n",
    "    \n",
    "        for j in range(low, high):\n",
    "            if self.data[j] <= pivot:\n",
    "                i = i+1\n",
    "                self.data[i], self.data[j] = self.data[j], self.data[i]\n",
    "    \n",
    "        self.data[i+1], self.data[high] = self.data[high], self.data[i+1]\n",
    "        return (i+1)\n",
    "\n",
    "    def sort(self):\n",
    "        def quick_sort(self, l, r):\n",
    "            if l >= r:\n",
    "                return\n",
    "            \n",
    "            pivot = self.__partition__(l, r)\n",
    "            quick_sort(self, l, pivot-1)\n",
    "            quick_sort(self, pivot+1, r)\n",
    "\n",
    "        quick_sort(self, 0, len(self.data) - 1)\n",
    "\n",
    "    def remove_at(self, index):\n",
    "        if index >= len(self.data) or index < 0:\n",
    "            raise IndexError('Index {} is out of range in a list of size {}'.format(index, len(self.data)))\n",
    "\n",
    "        self.data = self.data[:index] + self.data[index+1:]"
   ]
  },
  {
   "cell_type": "markdown",
   "metadata": {},
   "source": [
    "## Функция, генерирующая небольшие списки (удобно для тестирования)"
   ]
  },
  {
   "cell_type": "code",
   "execution_count": 3,
   "metadata": {},
   "outputs": [],
   "source": [
    "def random_list(size):\n",
    "    result = list()\n",
    "    for i in range(size):\n",
    "        result.append(randint(-10, 10))\n",
    "    return result"
   ]
  },
  {
   "cell_type": "markdown",
   "metadata": {},
   "source": [
    "## Задание 1: Быстрая сортировка"
   ]
  },
  {
   "cell_type": "markdown",
   "metadata": {},
   "source": [
    "Создать список на основе вводимых пользователем целых чисел (из другого списка или из файла), отсортированный по возрастанию. Метод `sort()` использовать нельзя! Вывести полученный список на экран."
   ]
  },
  {
   "cell_type": "markdown",
   "metadata": {},
   "source": [
    "### Тестирование"
   ]
  },
  {
   "cell_type": "code",
   "execution_count": 4,
   "metadata": {},
   "outputs": [
    {
     "name": "stdout",
     "output_type": "stream",
     "text": [
      "[1, 7, 0, 2, 4]\n"
     ]
    }
   ],
   "source": [
    "a = List([1, 7, 0, 2, 4])\n",
    "print(a)"
   ]
  },
  {
   "cell_type": "code",
   "execution_count": 5,
   "metadata": {},
   "outputs": [
    {
     "name": "stdout",
     "output_type": "stream",
     "text": [
      "[0, 1, 2, 4, 7]\n"
     ]
    }
   ],
   "source": [
    "a.sort()\n",
    "print(a)"
   ]
  },
  {
   "cell_type": "markdown",
   "metadata": {},
   "source": [
    "## Задание 2: Удаление элемента из середины списка"
   ]
  },
  {
   "cell_type": "code",
   "execution_count": 6,
   "metadata": {},
   "outputs": [
    {
     "name": "stdout",
     "output_type": "stream",
     "text": [
      "[0, 1, 4, 7]\n",
      "[1, 4, 7]\n"
     ]
    }
   ],
   "source": [
    "a.remove_at(2)\n",
    "print(a)\n",
    "a.remove_at(0)\n",
    "print(a)"
   ]
  },
  {
   "cell_type": "code",
   "execution_count": 7,
   "metadata": {},
   "outputs": [
    {
     "name": "stdout",
     "output_type": "stream",
     "text": [
      "Index 5 is out of range in a list of size 3\n"
     ]
    }
   ],
   "source": [
    "try:\n",
    "    a.remove_at(5)\n",
    "except Exception as e: print(e)"
   ]
  },
  {
   "cell_type": "markdown",
   "metadata": {},
   "source": [
    "## Задание 3"
   ]
  },
  {
   "cell_type": "markdown",
   "metadata": {},
   "source": [
    "Написать функцию, которая на по списку целых чисел `L` строит два списка: `L1` – из положительных элементов и `L2` – из отрицательных."
   ]
  },
  {
   "cell_type": "markdown",
   "metadata": {},
   "source": [
    "### Реализация"
   ]
  },
  {
   "cell_type": "code",
   "execution_count": 8,
   "metadata": {},
   "outputs": [],
   "source": [
    "def sign_split(l: List):\n",
    "    l1 = List()\n",
    "    l2 = List()\n",
    "\n",
    "    for item in l:\n",
    "        if type(item) != int:\n",
    "            raise ValueError('Expected list of integers')\n",
    "        \n",
    "        if item > 0:\n",
    "            l1.append(item)\n",
    "        elif item < 0:\n",
    "            l2.append(item)\n",
    "\n",
    "    return l1, l2"
   ]
  },
  {
   "cell_type": "markdown",
   "metadata": {},
   "source": [
    "### Тестирование"
   ]
  },
  {
   "cell_type": "code",
   "execution_count": 9,
   "metadata": {},
   "outputs": [
    {
     "name": "stdout",
     "output_type": "stream",
     "text": [
      "[-7, -7, 5, 8, 9, -7, -1, 2, 3, -3]\n",
      "[5, 8, 9, 2, 3] [-7, -7, -7, -1, -3]\n"
     ]
    }
   ],
   "source": [
    "a = random_list(10)\n",
    "print(a)\n",
    "print(*sign_split(a))"
   ]
  },
  {
   "cell_type": "markdown",
   "metadata": {},
   "source": [
    "## Задание 4"
   ]
  },
  {
   "cell_type": "markdown",
   "metadata": {},
   "source": [
    "Написать функцию, которая по двум спискам целых чисел L1 и L2 строит новый список L, состоящий из элементов входящих в списки L1 и L2, причем если элемент входит в оба списка, то он добавляется только один раз. Использовать метод `append()` нельзя. Например, L1 = (1, 2, 2, 5), L2 = (2, 5, 7), тогда L = (1, 2, 2, 5, 7)."
   ]
  },
  {
   "cell_type": "code",
   "execution_count": 10,
   "metadata": {},
   "outputs": [],
   "source": [
    "\"\"\"\n",
    "Функция с append, написана в целях тестирования\n",
    "\"\"\"\n",
    "def problem4_with_append(l1: List, l2: List):\n",
    "    l = List()\n",
    "    l1.sort()\n",
    "    l2.sort()\n",
    "\n",
    "    i1 = 0\n",
    "    i2 = 0\n",
    "\n",
    "    while i1 < l1.size() and i2 < l2.size():\n",
    "        if l1[i1] == l2[i2]:\n",
    "            l.append(l1[i1])\n",
    "            i1 += 1\n",
    "            i2 += 1\n",
    "        elif l1[i1] < l2[i2]:\n",
    "            l.append(l1[i1])\n",
    "            i1 += 1\n",
    "        else:\n",
    "            l.append(l2[i2])\n",
    "            i2 += 1\n",
    "\n",
    "    while i1 < l1.size():\n",
    "        l.append(l1[i1])\n",
    "        i1 += 1\n",
    "\n",
    "    while i2 < l2.size():\n",
    "        l.append(l2[i2])\n",
    "        i2 += 1\n",
    "\n",
    "    return l"
   ]
  },
  {
   "cell_type": "code",
   "execution_count": 11,
   "metadata": {},
   "outputs": [
    {
     "name": "stdout",
     "output_type": "stream",
     "text": [
      "[1, 2, 2, 5, 7]\n"
     ]
    }
   ],
   "source": [
    "print(problem4_with_append(List([1, 2, 2, 5]), List([2, 5, 7])))"
   ]
  },
  {
   "cell_type": "code",
   "execution_count": 12,
   "metadata": {},
   "outputs": [],
   "source": [
    "def problem4(l1: List, l2: List):\n",
    "    l = l1.concat(l2)\n",
    "    l.sort()\n",
    "    l2.sort()\n",
    "\n",
    "    for item in l2:\n",
    "        if item in l1:\n",
    "            l.remove(item)\n",
    "            l1.remove(item)\n",
    "\n",
    "    return l"
   ]
  },
  {
   "cell_type": "code",
   "execution_count": 13,
   "metadata": {},
   "outputs": [
    {
     "name": "stdout",
     "output_type": "stream",
     "text": [
      "[1, 2, 2, 5, 7]\n"
     ]
    }
   ],
   "source": [
    "print(problem4(List([1, 2, 2, 5]), List([2, 5, 7])))"
   ]
  },
  {
   "cell_type": "markdown",
   "metadata": {},
   "source": [
    "### Тестирование"
   ]
  },
  {
   "cell_type": "code",
   "execution_count": 14,
   "metadata": {},
   "outputs": [],
   "source": [
    "for test in range(15):\n",
    "    l1 = List(random_list(20))\n",
    "    l2 = List(random_list(10))\n",
    "    assert problem4_with_append(l1, l2).data == problem4(l1, l2).data"
   ]
  },
  {
   "cell_type": "markdown",
   "metadata": {},
   "source": [
    "## Задание 5: Очередь"
   ]
  },
  {
   "cell_type": "markdown",
   "metadata": {},
   "source": [
    "### Реализация очереди"
   ]
  },
  {
   "cell_type": "code",
   "execution_count": 15,
   "metadata": {},
   "outputs": [],
   "source": [
    "class Queue:\n",
    "    def __init__(self):\n",
    "        self.data = list()\n",
    "\n",
    "    def push(self, x: int):\n",
    "        self.data.append(x)\n",
    "\n",
    "    def pop(self):\n",
    "        result = self.data[0]\n",
    "        if len(self.data) > 1:\n",
    "            self.data = self.data[1:]\n",
    "        else:\n",
    "            self.data = list()\n",
    "        return result\n",
    "\n",
    "    def size(self):\n",
    "        return len(self.data)"
   ]
  },
  {
   "cell_type": "markdown",
   "metadata": {},
   "source": [
    "### Функция, генерирующая файл со случайным набором действительных чисел"
   ]
  },
  {
   "cell_type": "code",
   "execution_count": 16,
   "metadata": {},
   "outputs": [],
   "source": [
    "def random_real_numbers(size):\n",
    "    with open('numbers.txt', 'w+') as f:\n",
    "        for _ in range(size):\n",
    "            f.write(str(uniform(-100, 100)) + '\\n')"
   ]
  },
  {
   "cell_type": "code",
   "execution_count": 17,
   "metadata": {},
   "outputs": [],
   "source": [
    "random_real_numbers(20)"
   ]
  },
  {
   "cell_type": "markdown",
   "metadata": {},
   "source": [
    "### Решение"
   ]
  },
  {
   "cell_type": "code",
   "execution_count": 18,
   "metadata": {},
   "outputs": [],
   "source": [
    "def problem5(a: List, c: float):\n",
    "    q1 = Queue()\n",
    "    q2 = Queue()\n",
    "\n",
    "    for item in a:\n",
    "        if item < c:\n",
    "            q1.push(item)\n",
    "        else:\n",
    "            q2.push(item)\n",
    "\n",
    "    result = List()\n",
    "    for i in range(q1.size()):\n",
    "        result.append(q1.pop())\n",
    "\n",
    "    for i in range(q2.size()):\n",
    "        result.append(q2.pop())\n",
    "\n",
    "    return result"
   ]
  },
  {
   "cell_type": "markdown",
   "metadata": {},
   "source": [
    "### Тестирование"
   ]
  },
  {
   "cell_type": "code",
   "execution_count": 19,
   "metadata": {},
   "outputs": [
    {
     "data": {
      "text/plain": [
       "[-9, 1, 9, -7, 3, 6, -1, 8, 3, 4, 4, -1, 0, 1, -5]"
      ]
     },
     "execution_count": 19,
     "metadata": {},
     "output_type": "execute_result"
    }
   ],
   "source": [
    "a = random_list(15)\n",
    "a"
   ]
  },
  {
   "cell_type": "code",
   "execution_count": 20,
   "metadata": {},
   "outputs": [
    {
     "name": "stdout",
     "output_type": "stream",
     "text": [
      "[-9, -7, -1, -1, -5, 1, 9, 3, 6, 8, 3, 4, 4, 0, 1]\n"
     ]
    }
   ],
   "source": [
    "print(problem5(a, 0))"
   ]
  },
  {
   "cell_type": "markdown",
   "metadata": {},
   "source": [
    "## Задание 6: Стек"
   ]
  },
  {
   "cell_type": "code",
   "execution_count": 21,
   "metadata": {},
   "outputs": [],
   "source": [
    "class Stack:\n",
    "    def __init__(self):\n",
    "        self.data = list()\n",
    "\n",
    "    def push(self, x: int):\n",
    "        self.data.append(x)\n",
    "\n",
    "    def pop(self):\n",
    "        return self.data.pop()"
   ]
  },
  {
   "cell_type": "code",
   "execution_count": 22,
   "metadata": {},
   "outputs": [],
   "source": [
    "\"\"\"\n",
    "Проверяет правильность расстановки скобок в строке. Возвращает индекс первой неправильной скобки. Если ошибки нет, возвращает -1.\n",
    "\"\"\"\n",
    "def check_brackets(s: str):\n",
    "    result = 0\n",
    "    stack = Stack()\n",
    "\n",
    "    bracket_match = {\n",
    "        '(': ')',\n",
    "        '[': ']',\n",
    "        '{': '}'\n",
    "    }\n",
    "\n",
    "    for c in s:\n",
    "        if c == '(' or c == '[' or c == '{':\n",
    "            stack.push(c)\n",
    "            result += 1\n",
    "        else:\n",
    "            opening = stack.pop()\n",
    "            if bracket_match[opening] == c:\n",
    "                result += 1\n",
    "            else:\n",
    "                return result\n",
    "\n",
    "    return -1"
   ]
  },
  {
   "cell_type": "code",
   "execution_count": 23,
   "metadata": {},
   "outputs": [
    {
     "name": "stdout",
     "output_type": "stream",
     "text": [
      "-1\n"
     ]
    }
   ],
   "source": [
    "print(check_brackets('[({}){}()]'))"
   ]
  },
  {
   "cell_type": "code",
   "execution_count": 24,
   "metadata": {},
   "outputs": [
    {
     "name": "stdout",
     "output_type": "stream",
     "text": [
      "8\n"
     ]
    }
   ],
   "source": [
    "print(check_brackets('[({}{}()]'))"
   ]
  },
  {
   "cell_type": "markdown",
   "metadata": {},
   "source": [
    "## Вывод"
   ]
  },
  {
   "cell_type": "markdown",
   "metadata": {},
   "source": [
    "В ходе практической работы были реализованы такие структуры данных, как список, стек и очередь. С использованием этих структур решены различные алгоритмические задачи."
   ]
  }
 ],
 "metadata": {
  "interpreter": {
   "hash": "73e03da126b73bfff3642ec5261d56fa25c444ea595de51041687efaa60dda41"
  },
  "kernelspec": {
   "display_name": "Python 3.9.7 ('base')",
   "language": "python",
   "name": "python3"
  },
  "language_info": {
   "codemirror_mode": {
    "name": "ipython",
    "version": 3
   },
   "file_extension": ".py",
   "mimetype": "text/x-python",
   "name": "python",
   "nbconvert_exporter": "python",
   "pygments_lexer": "ipython3",
   "version": "3.9.7"
  },
  "orig_nbformat": 4
 },
 "nbformat": 4,
 "nbformat_minor": 2
}
