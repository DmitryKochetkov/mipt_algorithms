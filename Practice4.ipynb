{
 "cells": [
  {
   "cell_type": "markdown",
   "metadata": {},
   "source": [
    "# Практическая работа №4"
   ]
  },
  {
   "cell_type": "markdown",
   "metadata": {},
   "source": [
    "Выполнил студент группы М06-106н Кочетков Дмитрий Андреевич."
   ]
  },
  {
   "cell_type": "markdown",
   "metadata": {},
   "source": [
    "## Постановка задачи"
   ]
  },
  {
   "cell_type": "markdown",
   "metadata": {},
   "source": [
    "Необходимо программно реализовать следующие операции для АВЛ-дерева (самобалансируемое двоичное дерево поиска):\n",
    "1.\tСоздание дерева из списка;\n",
    "2.\tДобавление элемента в дерево;\n",
    "3.\tУдаление элемента из дерева;\n",
    "4.\tБалансировка дерева;\n",
    "5.\tВизуализация дерева.\n",
    "\n",
    "Создать собственный класс `AVLTree`, реализующий описанный выше функционал.\n",
    "В тестовой части визуализировать АВЛ-дерево до и после тестируемой операции.\n",
    "В расчетной части построить зависимость высоты АВЛ-дерева от количества его узлов. Сравнить с теоретической оценкой."
   ]
  },
  {
   "cell_type": "markdown",
   "metadata": {},
   "source": [
    "## Реализация AVLTree"
   ]
  },
  {
   "cell_type": "code",
   "execution_count": 3,
   "metadata": {},
   "outputs": [],
   "source": [
    "class AVLTree:\n",
    "    def __init__(self, value):\n",
    "        self.value = value\n",
    "        self.l = None\n",
    "        self.r = None\n",
    "\n",
    "    @classmethod\n",
    "    def from_list(cls, numbers: list):\n",
    "        numbers = sorted(numbers)\n",
    "        if len(numbers) > 0:\n",
    "            mid = len(numbers) // 2\n",
    "            result = cls(numbers[mid])\n",
    "            # result = cls(numbers[mid])\n",
    "\n",
    "            result.l = cls.from_list(numbers[:mid])\n",
    "            result.r = cls.from_list(numbers[mid+1:])\n",
    "        \n",
    "            return result\n",
    "    \n",
    "    \"\"\"\n",
    "    Вывод дерева в текстовом формате.\n",
    "    \"\"\"\n",
    "    def __str__(self, level=0):\n",
    "        ret = \"   \" * level + repr(self.value)+\"\\n\"\n",
    "        if self.l != None:\n",
    "            ret += self.l.__str__(level+1)\n",
    "        if self.r != None:\n",
    "            ret += self.r.__str__(level+1)\n",
    "        return ret\n",
    "\n",
    "    def __repr__(self):\n",
    "        return self.__str__(level=0)"
   ]
  },
  {
   "cell_type": "code",
   "execution_count": 4,
   "metadata": {},
   "outputs": [
    {
     "data": {
      "text/plain": [
       "7\n",
       "  4\n",
       "    3\n",
       "      1\n",
       "    6\n",
       "  13\n",
       "    10\n",
       "      8\n",
       "    14"
      ]
     },
     "execution_count": 4,
     "metadata": {},
     "output_type": "execute_result"
    }
   ],
   "source": [
    "AVLTree.from_list([13, 10, 14, 4, 7, 1, 6, 8, 3])"
   ]
  },
  {
   "cell_type": "markdown",
   "metadata": {},
   "source": [
    "## Зависимость высоты дерева от количества элементов"
   ]
  },
  {
   "cell_type": "code",
   "execution_count": null,
   "metadata": {},
   "outputs": [],
   "source": []
  },
  {
   "cell_type": "markdown",
   "metadata": {},
   "source": [
    "## Вывод"
   ]
  }
 ],
 "metadata": {
  "interpreter": {
   "hash": "b3ba2566441a7c06988d0923437866b63cedc61552a5af99d1f4fb67d367b25f"
  },
  "kernelspec": {
   "display_name": "Python 3.9.7 ('base')",
   "language": "python",
   "name": "python3"
  },
  "language_info": {
   "codemirror_mode": {
    "name": "ipython",
    "version": 3
   },
   "file_extension": ".py",
   "mimetype": "text/x-python",
   "name": "python",
   "nbconvert_exporter": "python",
   "pygments_lexer": "ipython3",
   "version": "3.9.7"
  },
  "orig_nbformat": 4
 },
 "nbformat": 4,
 "nbformat_minor": 2
}
