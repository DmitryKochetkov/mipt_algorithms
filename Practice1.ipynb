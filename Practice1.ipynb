{
 "cells": [
  {
   "cell_type": "markdown",
   "metadata": {},
   "source": [
    "# Практическая работа №1"
   ]
  },
  {
   "cell_type": "markdown",
   "metadata": {},
   "source": [
    "Выполнил студент группы М06-106н Кочетков Дмитрий Андреевич."
   ]
  },
  {
   "cell_type": "markdown",
   "metadata": {},
   "source": [
    "## Постановка задачи"
   ]
  },
  {
   "cell_type": "markdown",
   "metadata": {},
   "source": [
    "Задача: реализовать алгоритм вычисления чисел Фибоначчи."
   ]
  },
  {
   "cell_type": "markdown",
   "metadata": {},
   "source": [
    "1.\tпрограммно реализовать вычисление наивного алгоритма решения задачи;\n",
    "2.\tпрограммно реализовать вычисление оптимизированного алгоритм решения задачи;\n",
    "3.\tпрограммно реализовать расчет времени выполнения наивного и оптимизированного алгоритмов решения задачи для заданного набора параметров;\n",
    "4.\tподобрать параметры для расчета времени выполнения наивного и оптимизированного алгоритмов таким образом, чтобы сложность выполнения алгоритмов возрастала;\n",
    "5.\tвычислить время выполнения наивного и оптимизированного алгоритмов для заданного набора параметров; внести полученные данные в таблицу;\n",
    "6.\tвизуализировать полученные данные в виде двух графиков на одной координатной плоскости (по оси Ox – номер параметра, по оси Oy – время выполнения);\n",
    "7.\tсделать вывод."
   ]
  },
  {
   "cell_type": "code",
   "execution_count": null,
   "metadata": {},
   "outputs": [],
   "source": [
    "import numpy as np\n",
    "import pandas as pd\n",
    "import time\n",
    "from matplotlib import pyplot as plt"
   ]
  },
  {
   "cell_type": "markdown",
   "metadata": {},
   "source": [
    "## Наивный алгоритм"
   ]
  },
  {
   "cell_type": "markdown",
   "metadata": {},
   "source": [
    "В наивном алгоритме $n$-е число Фибоначчи считается по определению с использованием рекурсии:\n",
    "$$ F_n = F_{n-1} + F_{n-2} $$"
   ]
  },
  {
   "cell_type": "code",
   "execution_count": null,
   "metadata": {},
   "outputs": [],
   "source": [
    "def naive_fibonacci(n):\n",
    "    if n == 0:\n",
    "        return 0\n",
    "\n",
    "    if n == 1:\n",
    "        return 1\n",
    "\n",
    "    return naive_fibonacci(n-1) + naive_fibonacci(n-2)"
   ]
  },
  {
   "cell_type": "code",
   "execution_count": null,
   "metadata": {},
   "outputs": [],
   "source": [
    "for i in range(10):\n",
    "    print('F({}): {}'.format(i, naive_fibonacci(i)))"
   ]
  },
  {
   "cell_type": "markdown",
   "metadata": {},
   "source": [
    "Оценим сложность данного алгоритма. Время его выполнения можно выразить как $ T(n) = T(n-1) + T(n-2) + O(1) $, ведь вычисление $n$-го числа Фибоначчи потребует вычисления $n-1$ и $n-2$ чисел Фибоначчи, а также проверки двух условий и возврат значения.\n",
    "\n",
    "Тогда, учитывая, что $T(n-1) = 2 \\cdot T(n-2) + 1$, получаем $ T(n) = T(n-1) + T(n-2) + O(1) = 2^k \\cdot T(n-k) + (2^k-1) = O(2^n)$"
   ]
  },
  {
   "cell_type": "markdown",
   "metadata": {},
   "source": [
    "## Оптимизированный алгоритм"
   ]
  },
  {
   "cell_type": "markdown",
   "metadata": {},
   "source": [
    "Оптимизированный алгоритм использует матричное умножение. Число $F_n$ можно вычислить, пользуясь соотношением:\n",
    "\n",
    "$$ \\begin{pmatrix} 1 & 1 \\\\ 1 & 0 \\end{pmatrix} ^ n = \\begin{pmatrix} F_{n+1} & F_{n} \\\\ F_{n} & F_{n-1} \\end{pmatrix}$$"
   ]
  },
  {
   "cell_type": "code",
   "execution_count": null,
   "metadata": {},
   "outputs": [],
   "source": [
    "# Умножение двух матриц размера 2x2\n",
    "def multiply(m1, m2):\n",
    "    return [\n",
    "        [m1[0][0] * m2[0][0] + m1[0][1] * m2[1][0], m1[0][0] * m2[0][1] + m1[0][1] * m2[1][1]],\n",
    "        [m1[1][0] * m2[0][0] + m1[1][1] * m2[1][0], m1[1][0] * m2[0][1] + m1[1][1] * m2[1][1]]\n",
    "    ]\n",
    "\n",
    "# Возведение матрицы размера 2x2 в степень\n",
    "def power(matrix, n):\n",
    "    if n == 0 or n == 1:\n",
    "        return matrix\n",
    "\n",
    "    result = power(matrix, n // 2)\n",
    "    result = multiply(result, result)\n",
    "    if n % 2 != 0:\n",
    "        result = multiply(result, matrix)\n",
    "\n",
    "    return result\n",
    "\n",
    "def efficient_fibonacci(n):\n",
    "    m = [\n",
    "        [1, 1],\n",
    "        [1, 0]\n",
    "    ]\n",
    "\n",
    "    if n == 0:\n",
    "        return 0\n",
    "    return power(m, n-1)[0][0]"
   ]
  },
  {
   "cell_type": "markdown",
   "metadata": {},
   "source": [
    "Функция `multiply` работает за $O(1)$, так как данная функция состоит из одной операции возврата значения, вычисляемого при помощи элементарных арифметических операций.\n",
    "\n",
    "Функция `power` работает за $O(\\log n)$, так как возведение в степень в данном случае производится не при помощи $n$ умножений, а при помощи \n",
    "\n",
    "Функция `efficient_fibonacci`, реализующая оптимизированный алгоритм вычисления $n$-го числа Фибоначчи, работает за $O(\\log n)$, так как в ходе её выполнения соврешается три операции:\n",
    "\n",
    "- выделение памяти под начальную матрицу размера 2x2;\n",
    "- проверка условия на $n=0$;\n",
    "- возврат элемента матрицы, высчитываемой функцией `power` за $O(\\log n)$."
   ]
  },
  {
   "cell_type": "code",
   "execution_count": null,
   "metadata": {},
   "outputs": [],
   "source": [
    "for i in range(10):\n",
    "    print('F({}): {}'.format(i, efficient_fibonacci(i)))"
   ]
  },
  {
   "cell_type": "markdown",
   "metadata": {},
   "source": [
    "## Программный расчет времени выполнения"
   ]
  },
  {
   "cell_type": "code",
   "execution_count": 29,
   "metadata": {},
   "outputs": [],
   "source": [
    "naive_algorithm_time = list()\n",
    "efficient_algorithm_time = list()\n",
    "n_max = 30\n",
    "\n",
    "for n in range(1, n_max):\n",
    "    start_time = time.time()\n",
    "    naive_fibonacci(n)\n",
    "    naive_algorithm_time.append(time.time() - start_time)\n",
    "\n",
    "    start_time = time.time()\n",
    "    efficient_fibonacci(n)\n",
    "    efficient_algorithm_time.append(time.time() - start_time)"
   ]
  },
  {
   "cell_type": "code",
   "execution_count": 31,
   "metadata": {},
   "outputs": [
    {
     "data": {
      "text/html": [
       "<div>\n",
       "<style scoped>\n",
       "    .dataframe tbody tr th:only-of-type {\n",
       "        vertical-align: middle;\n",
       "    }\n",
       "\n",
       "    .dataframe tbody tr th {\n",
       "        vertical-align: top;\n",
       "    }\n",
       "\n",
       "    .dataframe thead th {\n",
       "        text-align: right;\n",
       "    }\n",
       "</style>\n",
       "<table border=\"1\" class=\"dataframe\">\n",
       "  <thead>\n",
       "    <tr style=\"text-align: right;\">\n",
       "      <th></th>\n",
       "      <th>Naive</th>\n",
       "      <th>Effecient</th>\n",
       "    </tr>\n",
       "  </thead>\n",
       "  <tbody>\n",
       "    <tr>\n",
       "      <th>0</th>\n",
       "      <td>0.000000</td>\n",
       "      <td>0.000000</td>\n",
       "    </tr>\n",
       "    <tr>\n",
       "      <th>1</th>\n",
       "      <td>0.000000</td>\n",
       "      <td>0.000000</td>\n",
       "    </tr>\n",
       "    <tr>\n",
       "      <th>2</th>\n",
       "      <td>0.000000</td>\n",
       "      <td>0.000000</td>\n",
       "    </tr>\n",
       "    <tr>\n",
       "      <th>3</th>\n",
       "      <td>0.000501</td>\n",
       "      <td>0.000000</td>\n",
       "    </tr>\n",
       "    <tr>\n",
       "      <th>4</th>\n",
       "      <td>0.000000</td>\n",
       "      <td>0.000000</td>\n",
       "    </tr>\n",
       "    <tr>\n",
       "      <th>5</th>\n",
       "      <td>0.000000</td>\n",
       "      <td>0.000000</td>\n",
       "    </tr>\n",
       "    <tr>\n",
       "      <th>6</th>\n",
       "      <td>0.000000</td>\n",
       "      <td>0.000000</td>\n",
       "    </tr>\n",
       "    <tr>\n",
       "      <th>7</th>\n",
       "      <td>0.000000</td>\n",
       "      <td>0.000000</td>\n",
       "    </tr>\n",
       "    <tr>\n",
       "      <th>8</th>\n",
       "      <td>0.000000</td>\n",
       "      <td>0.000000</td>\n",
       "    </tr>\n",
       "    <tr>\n",
       "      <th>9</th>\n",
       "      <td>0.000000</td>\n",
       "      <td>0.000000</td>\n",
       "    </tr>\n",
       "    <tr>\n",
       "      <th>10</th>\n",
       "      <td>0.000000</td>\n",
       "      <td>0.000000</td>\n",
       "    </tr>\n",
       "    <tr>\n",
       "      <th>11</th>\n",
       "      <td>0.000495</td>\n",
       "      <td>0.000000</td>\n",
       "    </tr>\n",
       "    <tr>\n",
       "      <th>12</th>\n",
       "      <td>0.000000</td>\n",
       "      <td>0.000000</td>\n",
       "    </tr>\n",
       "    <tr>\n",
       "      <th>13</th>\n",
       "      <td>0.000500</td>\n",
       "      <td>0.000000</td>\n",
       "    </tr>\n",
       "    <tr>\n",
       "      <th>14</th>\n",
       "      <td>0.001000</td>\n",
       "      <td>0.000000</td>\n",
       "    </tr>\n",
       "    <tr>\n",
       "      <th>15</th>\n",
       "      <td>0.000999</td>\n",
       "      <td>0.000000</td>\n",
       "    </tr>\n",
       "    <tr>\n",
       "      <th>16</th>\n",
       "      <td>0.002499</td>\n",
       "      <td>0.000000</td>\n",
       "    </tr>\n",
       "    <tr>\n",
       "      <th>17</th>\n",
       "      <td>0.003000</td>\n",
       "      <td>0.000502</td>\n",
       "    </tr>\n",
       "    <tr>\n",
       "      <th>18</th>\n",
       "      <td>0.004999</td>\n",
       "      <td>0.000000</td>\n",
       "    </tr>\n",
       "    <tr>\n",
       "      <th>19</th>\n",
       "      <td>0.008500</td>\n",
       "      <td>0.000000</td>\n",
       "    </tr>\n",
       "    <tr>\n",
       "      <th>20</th>\n",
       "      <td>0.012002</td>\n",
       "      <td>0.000000</td>\n",
       "    </tr>\n",
       "    <tr>\n",
       "      <th>21</th>\n",
       "      <td>0.021500</td>\n",
       "      <td>0.000000</td>\n",
       "    </tr>\n",
       "    <tr>\n",
       "      <th>22</th>\n",
       "      <td>0.025497</td>\n",
       "      <td>0.000000</td>\n",
       "    </tr>\n",
       "    <tr>\n",
       "      <th>23</th>\n",
       "      <td>0.040997</td>\n",
       "      <td>0.000000</td>\n",
       "    </tr>\n",
       "    <tr>\n",
       "      <th>24</th>\n",
       "      <td>0.066501</td>\n",
       "      <td>0.000000</td>\n",
       "    </tr>\n",
       "    <tr>\n",
       "      <th>25</th>\n",
       "      <td>0.098008</td>\n",
       "      <td>0.000000</td>\n",
       "    </tr>\n",
       "    <tr>\n",
       "      <th>26</th>\n",
       "      <td>0.164497</td>\n",
       "      <td>0.000000</td>\n",
       "    </tr>\n",
       "    <tr>\n",
       "      <th>27</th>\n",
       "      <td>0.249496</td>\n",
       "      <td>0.000000</td>\n",
       "    </tr>\n",
       "    <tr>\n",
       "      <th>28</th>\n",
       "      <td>0.534002</td>\n",
       "      <td>0.000500</td>\n",
       "    </tr>\n",
       "  </tbody>\n",
       "</table>\n",
       "</div>"
      ],
      "text/plain": [
       "       Naive  Effecient\n",
       "0   0.000000   0.000000\n",
       "1   0.000000   0.000000\n",
       "2   0.000000   0.000000\n",
       "3   0.000501   0.000000\n",
       "4   0.000000   0.000000\n",
       "5   0.000000   0.000000\n",
       "6   0.000000   0.000000\n",
       "7   0.000000   0.000000\n",
       "8   0.000000   0.000000\n",
       "9   0.000000   0.000000\n",
       "10  0.000000   0.000000\n",
       "11  0.000495   0.000000\n",
       "12  0.000000   0.000000\n",
       "13  0.000500   0.000000\n",
       "14  0.001000   0.000000\n",
       "15  0.000999   0.000000\n",
       "16  0.002499   0.000000\n",
       "17  0.003000   0.000502\n",
       "18  0.004999   0.000000\n",
       "19  0.008500   0.000000\n",
       "20  0.012002   0.000000\n",
       "21  0.021500   0.000000\n",
       "22  0.025497   0.000000\n",
       "23  0.040997   0.000000\n",
       "24  0.066501   0.000000\n",
       "25  0.098008   0.000000\n",
       "26  0.164497   0.000000\n",
       "27  0.249496   0.000000\n",
       "28  0.534002   0.000500"
      ]
     },
     "execution_count": 31,
     "metadata": {},
     "output_type": "execute_result"
    }
   ],
   "source": [
    "pd.DataFrame({'Naive': naive_algorithm_time, 'Effecient': efficient_algorithm_time})"
   ]
  },
  {
   "cell_type": "code",
   "execution_count": 30,
   "metadata": {},
   "outputs": [
    {
     "data": {
      "image/png": "[encoded data removed]",
      "text/plain": [
       "<Figure size 432x288 with 1 Axes>"
      ]
     },
     "metadata": {
      "needs_background": "light"
     },
     "output_type": "display_data"
    }
   ],
   "source": [
    "plt.plot(range(1, n_max), naive_algorithm_time, label = \"Naive\")\n",
    "plt.plot(range(1, n_max), efficient_algorithm_time, label = \"Efficient\")\n",
    "plt.legend()\n",
    "plt.show()"
   ]
  },
  {
   "cell_type": "markdown",
   "metadata": {},
   "source": [
    "## Вывод"
   ]
  },
  {
   "cell_type": "markdown",
   "metadata": {},
   "source": [
    "В ходе практической работы №1 было проведено сравнение наивного и эффективного алгоритма для вычисления чисел Фибоначчи. Было рассчитано, что наивный алгоритм требует $O(2^n)$ времени, тогда как эффективный алгоритм работает за $O(\\log n)$. Расчеты проверены на практике построением графика измеренного времени работы алгоритма."
   ]
  }
 ],
 "metadata": {
  "interpreter": {
   "hash": "73e03da126b73bfff3642ec5261d56fa25c444ea595de51041687efaa60dda41"
  },
  "kernelspec": {
   "display_name": "Python 3.9.7 ('base')",
   "language": "python",
   "name": "python3"
  },
  "language_info": {
   "codemirror_mode": {
    "name": "ipython",
    "version": 3
   },
   "file_extension": ".py",
   "mimetype": "text/x-python",
   "name": "python",
   "nbconvert_exporter": "python",
   "pygments_lexer": "ipython3",
   "version": "3.9.7"
  },
  "orig_nbformat": 4
 },
 "nbformat": 4,
 "nbformat_minor": 2
}
