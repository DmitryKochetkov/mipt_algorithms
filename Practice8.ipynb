{
 "cells": [
  {
   "cell_type": "markdown",
   "metadata": {},
   "source": [
    "# Практическая работа №8: Разделяй и властвуй"
   ]
  },
  {
   "cell_type": "markdown",
   "metadata": {},
   "source": [
    "Выполнил студент группы М06-106н Кочетков Дмитрий Андреевич."
   ]
  },
  {
   "cell_type": "markdown",
   "metadata": {},
   "source": [
    "## Постановка задачи"
   ]
  },
  {
   "cell_type": "markdown",
   "metadata": {},
   "source": [
    "Необходимо методом «Разделяй и властвуй» реализовать алгоритм сортировки массива слиянием. Подход к решению: \n",
    "\n",
    "1. Исходный массив делится пополам на два подмассива, для которых рекурсивно вызывается функция сортировки, после чего отсортированные подмассивы сливаются. Слияние осуществляется следующим образом: если первый элемент в первом подмассиве меньше первого элемента во втором подмассиве, то он становится первым элементом в результирующем («слитом») массиве, а остальными элементами становятся элементы, полученные слиянием первого массива без первого элемента и второго массива; \n",
    "2. если же первый элемент второго подмассива меньше первого элемента первого подмассива, то, соответственно, первым элементом результирующего массива становится первый элемент второго подмассива, а остальными элементами становятся элементы, полученные слиянием первого подмассива и второго подмассива без первого элемента (слияние реализуется рекурсивно). \n",
    "\n",
    "На входе: массив длины $n$, который требуется отсортировать, на выходе: отсортированный массив."
   ]
  },
  {
   "cell_type": "markdown",
   "metadata": {},
   "source": [
    "## Реализация"
   ]
  },
  {
   "cell_type": "code",
   "execution_count": 1,
   "metadata": {},
   "outputs": [],
   "source": [
    "def merge(a, l, m, r):\n",
    "    n1 = m - l + 1\n",
    "    n2 = r - m\n",
    " \n",
    "    L = [0] * (n1)\n",
    "    R = [0] * (n2)\n",
    " \n",
    "    for i in range(0, n1):\n",
    "        L[i] = a[l + i]\n",
    " \n",
    "    for j in range(0, n2):\n",
    "        R[j] = a[m + 1 + j]\n",
    "\n",
    "    i = 0\n",
    "    j = 0\n",
    "    k = l\n",
    " \n",
    "    while i < n1 and j < n2:\n",
    "        if L[i] <= R[j]:\n",
    "            a[k] = L[i]\n",
    "            i += 1\n",
    "        else:\n",
    "            a[k] = R[j]\n",
    "            j += 1\n",
    "        k += 1\n",
    " \n",
    "    while i < n1:\n",
    "        a[k] = L[i]\n",
    "        i += 1\n",
    "        k += 1\n",
    " \n",
    "    while j < n2:\n",
    "        a[k] = R[j]\n",
    "        j += 1\n",
    "        k += 1\n",
    "\n",
    "def merge_sort_util(a: list, l: int, r: int):\n",
    "    if l < r:\n",
    "        m = l + (r-l) // 2\n",
    "\n",
    "        merge_sort_util(a, l, m)\n",
    "        merge_sort_util(a, m+1, r)\n",
    "        merge(a, l, m, r)\n",
    "\n",
    "def merge_sort(a: list):\n",
    "    merge_sort_util(a, 0, len(a)-1)"
   ]
  },
  {
   "cell_type": "markdown",
   "metadata": {},
   "source": [
    "## Тестирование"
   ]
  },
  {
   "cell_type": "code",
   "execution_count": 2,
   "metadata": {},
   "outputs": [
    {
     "data": {
      "text/plain": [
       "[-13, 1, 2, 5, 8]"
      ]
     },
     "execution_count": 2,
     "metadata": {},
     "output_type": "execute_result"
    }
   ],
   "source": [
    "a = [1, 5, 2, -13, 8]\n",
    "merge_sort(a)\n",
    "a"
   ]
  }
 ],
 "metadata": {
  "interpreter": {
   "hash": "b3ba2566441a7c06988d0923437866b63cedc61552a5af99d1f4fb67d367b25f"
  },
  "kernelspec": {
   "display_name": "Python 3.9.7 ('base')",
   "language": "python",
   "name": "python3"
  },
  "language_info": {
   "codemirror_mode": {
    "name": "ipython",
    "version": 3
   },
   "file_extension": ".py",
   "mimetype": "text/x-python",
   "name": "python",
   "nbconvert_exporter": "python",
   "pygments_lexer": "ipython3",
   "version": "3.9.7"
  },
  "orig_nbformat": 4
 },
 "nbformat": 4,
 "nbformat_minor": 2
}
