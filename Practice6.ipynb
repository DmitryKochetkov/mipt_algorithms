{
 "cells": [
  {
   "cell_type": "markdown",
   "metadata": {},
   "source": [
    "# Практическая работа №6: Хеш-таблицы"
   ]
  },
  {
   "cell_type": "markdown",
   "metadata": {},
   "source": [
    "Выполнил студент группы М06-106н Кочетков Дмитрий Андреевич."
   ]
  },
  {
   "cell_type": "markdown",
   "metadata": {},
   "source": [
    "## Постановка задачи"
   ]
  },
  {
   "cell_type": "markdown",
   "metadata": {},
   "source": [
    "Сконструировать класс для реализации записной книжки, которая хранит пары значений вида «имя абонента» - «номер абонента». Имя абонента – строка, содержащая произвольные символы. Номер абонента – строка, содержащая только цифры.\n",
    "Хэш-функцию выбрать самостоятельно.\n",
    "Разрешение коллизий должно выполняться по выбору одним из способов:\n",
    "1)\tметодом цепочек;\n",
    "2)\tметодом открытой адресации.\n"
   ]
  },
  {
   "cell_type": "markdown",
   "metadata": {},
   "source": [
    "## Реализация хеш-таблицы"
   ]
  },
  {
   "cell_type": "code",
   "execution_count": 1,
   "metadata": {},
   "outputs": [],
   "source": [
    "class HashTable:\n",
    "    m = 61\n",
    "    k = 31\n",
    "\n",
    "    def __init__(self):\n",
    "        self.table = list()\n",
    "        for i in range(self.m):\n",
    "            self.table.append(list())\n",
    "\n",
    "    def __str__(self):\n",
    "        key_value_pairs = []\n",
    "        for chain in self.table:\n",
    "            for key, value in chain:\n",
    "                key_value_pairs.append('{}: {}'.format(key, value))\n",
    "\n",
    "        return '{' + ', '.join(key_value_pairs) + '}'\n",
    "\n",
    "    def __repr__(self):\n",
    "        return self.__str__()\n",
    "\n",
    "    def __hash__(s: str):\n",
    "        \"\"\"\n",
    "        Прямой полиномиальный хеш строки `s`.\n",
    "        \"\"\"\n",
    "        hash = 0\n",
    "        for i in range(len(s)):\n",
    "            hash = (hash + (ord(s[i]) - ord('a') + 1) * HashTable.k) % HashTable.m\n",
    "        \n",
    "        return hash\n",
    "\n",
    "    def insert(self, key: str, value: str):\n",
    "        \"\"\"\n",
    "        Добавляет значение в хеш-таблицу\n",
    "        \"\"\"\n",
    "        index = HashTable.__hash__(key)\n",
    "        assert index >= 0 and index < len(self.table)\n",
    "        self.table[index].append((key, value))\n",
    "\n",
    "    def __getitem__(self, key: str):\n",
    "        \"\"\"\n",
    "        Возвращает значение по ключу\n",
    "        \"\"\"\n",
    "        index = HashTable.__hash__(key)\n",
    "        chain = self.table[index]\n",
    "\n",
    "        for item in chain:\n",
    "            if item[0] == key:\n",
    "                return item[1]\n",
    "        \n",
    "        raise KeyError(key)\n",
    "\n",
    "    def delete(self, key: str):\n",
    "        \"\"\"\n",
    "        Удаляет значение по ключу\n",
    "        \"\"\"\n",
    "        index = HashTable.__hash__(key)\n",
    "        item = self.__getitem__(key)\n",
    "        self.table[index].remove((key, item))"
   ]
  },
  {
   "cell_type": "code",
   "execution_count": 4,
   "metadata": {},
   "outputs": [
    {
     "data": {
      "text/plain": [
       "32"
      ]
     },
     "execution_count": 4,
     "metadata": {},
     "output_type": "execute_result"
    }
   ],
   "source": [
    "HashTable.__hash__('aaa')"
   ]
  },
  {
   "cell_type": "code",
   "execution_count": 5,
   "metadata": {},
   "outputs": [
    {
     "data": {
      "text/plain": [
       "32"
      ]
     },
     "execution_count": 5,
     "metadata": {},
     "output_type": "execute_result"
    }
   ],
   "source": [
    "HashTable.__hash__('lzz')"
   ]
  },
  {
   "cell_type": "code",
   "execution_count": 6,
   "metadata": {},
   "outputs": [],
   "source": [
    "phoneBook = HashTable()\n",
    "phoneBook.insert('aaa', '19874928371')\n",
    "phoneBook.insert('aab', '14238947302')"
   ]
  },
  {
   "cell_type": "code",
   "execution_count": 7,
   "metadata": {},
   "outputs": [
    {
     "data": {
      "text/plain": [
       "{aab: 14238947302, aaa: 19874928371}"
      ]
     },
     "execution_count": 7,
     "metadata": {},
     "output_type": "execute_result"
    }
   ],
   "source": [
    "phoneBook"
   ]
  },
  {
   "cell_type": "code",
   "execution_count": 8,
   "metadata": {},
   "outputs": [],
   "source": [
    "phoneBook.insert('lzz', '10000000000')"
   ]
  },
  {
   "cell_type": "code",
   "execution_count": 9,
   "metadata": {},
   "outputs": [
    {
     "data": {
      "text/plain": [
       "{aab: 14238947302, aaa: 19874928371, lzz: 10000000000}"
      ]
     },
     "execution_count": 9,
     "metadata": {},
     "output_type": "execute_result"
    }
   ],
   "source": [
    "phoneBook"
   ]
  },
  {
   "cell_type": "code",
   "execution_count": 10,
   "metadata": {},
   "outputs": [
    {
     "data": {
      "text/plain": [
       "{aab: 14238947302, aaa: 19874928371}"
      ]
     },
     "execution_count": 10,
     "metadata": {},
     "output_type": "execute_result"
    }
   ],
   "source": [
    "phoneBook.delete('lzz')\n",
    "phoneBook"
   ]
  },
  {
   "cell_type": "markdown",
   "metadata": {},
   "source": [
    "## Вывод"
   ]
  },
  {
   "cell_type": "markdown",
   "metadata": {},
   "source": [
    "В ходе практической работы была реализована хеш-таблица для хранения номеров телефонов, разрешающая коллизии методом цепочек."
   ]
  }
 ],
 "metadata": {
  "interpreter": {
   "hash": "b3ba2566441a7c06988d0923437866b63cedc61552a5af99d1f4fb67d367b25f"
  },
  "kernelspec": {
   "display_name": "Python 3.9.7 ('base')",
   "language": "python",
   "name": "python3"
  },
  "language_info": {
   "codemirror_mode": {
    "name": "ipython",
    "version": 3
   },
   "file_extension": ".py",
   "mimetype": "text/x-python",
   "name": "python",
   "nbconvert_exporter": "python",
   "pygments_lexer": "ipython3",
   "version": "3.9.7"
  },
  "orig_nbformat": 4
 },
 "nbformat": 4,
 "nbformat_minor": 2
}
