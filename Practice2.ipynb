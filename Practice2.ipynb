{
 "cells": [
  {
   "cell_type": "markdown",
   "metadata": {},
   "source": [
    "# Практическая работа №2"
   ]
  },
  {
   "cell_type": "markdown",
   "metadata": {},
   "source": [
    "Выполнил студент группы М06-106н Кочетков Дмитрий Андреевич."
   ]
  },
  {
   "cell_type": "markdown",
   "metadata": {},
   "source": [
    "## Постановка задачи"
   ]
  },
  {
   "cell_type": "markdown",
   "metadata": {},
   "source": [
    "Задача: реализовать жадный алгоритм для решения задачи о непрерывном рюкзаке."
   ]
  },
  {
   "cell_type": "markdown",
   "metadata": {},
   "source": [
    "## Алгоритм"
   ]
  },
  {
   "cell_type": "markdown",
   "metadata": {},
   "source": [
    "Жадный алгоритм на каждом шаге осуществляет принятие локально оптимального решения. В случае задачи о непрерывном рюкзаке это оптимальное решение заключается в последовательном выборе предмета наибольшего веса с наибольшей стоимостью среди оставшихся предметов. \n",
    "\n",
    "Если же вес предмета меньше, чем оставшееся место в рюкзаке, от предмета берется часть, равная оставшейся ёмкости рюкзака."
   ]
  },
  {
   "cell_type": "code",
   "execution_count": 2,
   "metadata": {},
   "outputs": [],
   "source": [
    "\"\"\"\n",
    "Жадный алгоритм, решающий непрерывную задачу о рюкзаке.\n",
    "\n",
    "Параметры: \n",
    "\n",
    "- items: list. Список предметов - кортежей вида (цена, вес).\n",
    "- capacity: int. Вместимость рюкзака.\n",
    "\"\"\"\n",
    "def greedy_knapsack(items: list, capacity: int) -> float:\n",
    "    order = [(price / weight, weight) for price, weight in items]\n",
    "    order.sort(reverse=True)\n",
    "\n",
    "    result = 0.0\n",
    "    for cost, weight in order:\n",
    "        if weight < capacity:\n",
    "            result += cost * weight\n",
    "            capacity -= weight\n",
    "        else:\n",
    "            result += cost * capacity\n",
    "            break\n",
    "\n",
    "    return result"
   ]
  },
  {
   "cell_type": "markdown",
   "metadata": {},
   "source": [
    "Оценим сложность алгоритма. Функция `greedy_knapsack` осуществляет следующие операции:\n",
    "\n",
    "1. Составление массива `order` с удельными ценами и весами предеметов, $O(n)$ операций.\n",
    "2. Сортировка массива `order` по убыванию удельных цен, $ O(n \\log n) $ операций (quick sort).\n",
    "3. Перебор $n$ предметов. В случае, если вес предмета меньше оставшегося места в рюкзаке, предмет берется полностью, совершается 2 операции. В противном случае перебор заканчивается взятием части предмета, равной оставшейся ёмкости рюкзака.\n",
    "\n",
    "Таким образом, сложность алгоритма $ O(n \\log n) $."
   ]
  },
  {
   "cell_type": "code",
   "execution_count": 3,
   "metadata": {},
   "outputs": [
    {
     "data": {
      "text/plain": [
       "180.0"
      ]
     },
     "execution_count": 3,
     "metadata": {},
     "output_type": "execute_result"
    }
   ],
   "source": [
    "greedy_knapsack(\n",
    "    items=[\n",
    "        (60, 20),\n",
    "        (100, 50),\n",
    "        (120, 30)\n",
    "    ],\n",
    "    capacity=50\n",
    ")"
   ]
  },
  {
   "cell_type": "code",
   "execution_count": 4,
   "metadata": {},
   "outputs": [
    {
     "data": {
      "text/plain": [
       "0.0"
      ]
     },
     "execution_count": 4,
     "metadata": {},
     "output_type": "execute_result"
    }
   ],
   "source": [
    "# Нулевая ёмкость\n",
    "greedy_knapsack(\n",
    "    items=[\n",
    "        (60, 20),\n",
    "        (100, 50),\n",
    "        (120, 30)\n",
    "    ],\n",
    "    capacity=0\n",
    ")"
   ]
  },
  {
   "cell_type": "code",
   "execution_count": 5,
   "metadata": {},
   "outputs": [
    {
     "data": {
      "text/plain": [
       "40.0"
      ]
     },
     "execution_count": 5,
     "metadata": {},
     "output_type": "execute_result"
    }
   ],
   "source": [
    "# Ёмкость меньше минимального веса предмета\n",
    "greedy_knapsack(\n",
    "    items=[\n",
    "        (60, 20),\n",
    "        (100, 50),\n",
    "        (120, 30)\n",
    "    ],\n",
    "    capacity=10\n",
    ")"
   ]
  },
  {
   "cell_type": "markdown",
   "metadata": {},
   "source": [
    "Построим график зависимости времени работы алгоритма от размера входных данных. Для того чтобы обеспечить полный перебор предметов, будем выбирать ёмкость рюкзака заведомо больше, чем сумма всех весов."
   ]
  },
  {
   "cell_type": "code",
   "execution_count": 10,
   "metadata": {},
   "outputs": [],
   "source": [
    "import numpy as np\n",
    "import pandas as pd\n",
    "import time\n",
    "from matplotlib import pyplot as plt\n",
    "from random import randint\n",
    "from tqdm import tqdm"
   ]
  },
  {
   "cell_type": "code",
   "execution_count": 11,
   "metadata": {},
   "outputs": [
    {
     "name": "stderr",
     "output_type": "stream",
     "text": [
      "100%|██████████| 1999/1999 [01:55<00:00, 17.37it/s] \n"
     ]
    }
   ],
   "source": [
    "execution_time = list()\n",
    "n_max = 2000\n",
    "for n in tqdm(range(1, n_max)):\n",
    "    items = list()\n",
    "    sum_of_weights = 0\n",
    "    for i in range(n):\n",
    "        price = randint(1, 10000)\n",
    "        weight = randint(1, 10000)\n",
    "        sum_of_weights += weight\n",
    "        items.append((price, weight))\n",
    "        items.sort() # для оценки времени работы алгоритма в худшем случае. Это не совсем верно, тут должна быть более сложная сортировка.\n",
    "    capacity = sum_of_weights // 2\n",
    "    start_time = time.time()\n",
    "    greedy_knapsack(items, capacity)\n",
    "    execution_time.append(time.time() - start_time)"
   ]
  },
  {
   "cell_type": "code",
   "execution_count": 12,
   "metadata": {},
   "outputs": [
    {
     "data": {
      "image/png": "[encoded data removed]",
      "text/plain": [
       "<Figure size 432x288 with 1 Axes>"
      ]
     },
     "metadata": {
      "needs_background": "light"
     },
     "output_type": "display_data"
    }
   ],
   "source": [
    "plt.plot(range(1, n_max), execution_time)\n",
    "plt.xlabel('Data size')\n",
    "plt.ylabel('Time')\n",
    "plt.show()"
   ]
  },
  {
   "cell_type": "markdown",
   "metadata": {},
   "source": [
    "## Вывод"
   ]
  },
  {
   "cell_type": "markdown",
   "metadata": {},
   "source": [
    "В практической работе №2 был реализован жадный алгоритм для решения задачи о непрерывном рюкзаке, указан критерий жадного выбора. Алгоритм протестирован на нескольких наборах входных данных."
   ]
  }
 ],
 "metadata": {
  "interpreter": {
   "hash": "73e03da126b73bfff3642ec5261d56fa25c444ea595de51041687efaa60dda41"
  },
  "kernelspec": {
   "display_name": "Python 3.9.7 ('base')",
   "language": "python",
   "name": "python3"
  },
  "language_info": {
   "codemirror_mode": {
    "name": "ipython",
    "version": 3
   },
   "file_extension": ".py",
   "mimetype": "text/x-python",
   "name": "python",
   "nbconvert_exporter": "python",
   "pygments_lexer": "ipython3",
   "version": "3.9.7"
  },
  "orig_nbformat": 4
 },
 "nbformat": 4,
 "nbformat_minor": 2
}
