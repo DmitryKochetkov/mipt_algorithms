{
 "cells": [
  {
   "cell_type": "markdown",
   "metadata": {},
   "source": [
    "# Практическая работа №5"
   ]
  },
  {
   "cell_type": "markdown",
   "metadata": {},
   "source": [
    "Выполнил студент группы М06-106н Кочетков Дмитрий Андреевич."
   ]
  },
  {
   "cell_type": "markdown",
   "metadata": {},
   "source": [
    "## Постановка задачи"
   ]
  },
  {
   "cell_type": "markdown",
   "metadata": {},
   "source": [
    "Необходимо выполнить все следующие задачи:\n",
    "\n",
    "1. Сконструировать класс `BinaryHeap`, реализующий следующие операции над двоичной max-кучей:\n",
    "- `push` - добавление элемента в кучу;\n",
    "- `pop` – получить значение и удалить корневой элемент из кучи.\n",
    "- (дополнительное задание – по желанию) Реализовать конструктор класса, которому в качестве параметра передается список элементов, из которых нужно построить кучу.\n",
    "\n",
    "2. Реализовать класс `TaskQueue` для работы со списком задач. Для каждой задачи задается название и приоритет (число от 1 до 4: 1 – низкий приоритет, 2 – средний приоритет, 3 – высокий приоритет, 4 – критическая задача). Класс должен обеспечивать возможность добавления задач в очередь, извлечение задачи из очереди, смену приоритета задачи из очереди. Для реализации использовать двоичную кучу. Для работы с двоичной кучей использовать библиотеку `heapq`.\n",
    "\n",
    "3. Сравнить время работы очереди с приоритетом на основе 1) отсортированного списка (list) и 2) двоичной кучи (библиотека `heapq`). Для этого рассчитать время заполнения и извлечения всех данных из очереди с приоритетом с использованием обоих методов (списка и кучи) на списках разной длины. Построить на одном графике зависимости времени работы с очередью от размера списка для обоих реализаций. Сделать вывод.\n"
   ]
  },
  {
   "cell_type": "markdown",
   "metadata": {},
   "source": [
    "## Задача 1"
   ]
  },
  {
   "cell_type": "markdown",
   "metadata": {},
   "source": [
    "### Реализация BinaryHeap"
   ]
  },
  {
   "cell_type": "markdown",
   "metadata": {},
   "source": [
    "### Тестирование BinaryHeap"
   ]
  },
  {
   "cell_type": "markdown",
   "metadata": {},
   "source": [
    "## Задача 2"
   ]
  },
  {
   "cell_type": "code",
   "execution_count": 2,
   "metadata": {},
   "outputs": [],
   "source": [
    "import heapq\n",
    "from heapq import heappush, heappop\n",
    "\n",
    "class Task:\n",
    "    def __init__(self, id, name, priority: int):\n",
    "        assert isinstance(priority, int)\n",
    "        self.name = name\n",
    "        self.priority = priority\n",
    "\n",
    "class TaskQueue:\n",
    "    def __init__(self):\n",
    "        self.tasks = []\n",
    "        self.next_id = 1\n",
    "\n",
    "    def insert(self, task: Task):\n",
    "        heappush(self.tasks, (task.priority, next_id, task))\n",
    "        next_id += 1"
   ]
  },
  {
   "cell_type": "code",
   "execution_count": 3,
   "metadata": {},
   "outputs": [],
   "source": [
    "queue = TaskQueue()\n",
    "queue.insert(Task('Feature', 2))\n",
    "queue.insert(Task('Bugfix', 1))"
   ]
  },
  {
   "cell_type": "markdown",
   "metadata": {},
   "source": [
    "## Вывод"
   ]
  },
  {
   "cell_type": "markdown",
   "metadata": {},
   "source": [
    "В ходе практической работы было реализовано AVL дерево. Выявлена зависимость между количеством узлов дерева и его высотой."
   ]
  }
 ],
 "metadata": {
  "interpreter": {
   "hash": "b3ba2566441a7c06988d0923437866b63cedc61552a5af99d1f4fb67d367b25f"
  },
  "kernelspec": {
   "display_name": "Python 3.9.7 ('base')",
   "language": "python",
   "name": "python3"
  },
  "language_info": {
   "codemirror_mode": {
    "name": "ipython",
    "version": 3
   },
   "file_extension": ".py",
   "mimetype": "text/x-python",
   "name": "python",
   "nbconvert_exporter": "python",
   "pygments_lexer": "ipython3",
   "version": "3.9.7"
  },
  "orig_nbformat": 4
 },
 "nbformat": 4,
 "nbformat_minor": 2
}
