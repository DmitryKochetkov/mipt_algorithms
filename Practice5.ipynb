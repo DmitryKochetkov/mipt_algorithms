{
 "cells": [
  {
   "cell_type": "markdown",
   "metadata": {},
   "source": [
    "# Практическая работа №5"
   ]
  },
  {
   "cell_type": "markdown",
   "metadata": {},
   "source": [
    "Выполнил студент группы М06-106н Кочетков Дмитрий Андреевич."
   ]
  },
  {
   "cell_type": "markdown",
   "metadata": {},
   "source": [
    "## Постановка задачи"
   ]
  },
  {
   "cell_type": "markdown",
   "metadata": {},
   "source": [
    "Необходимо выполнить все следующие задачи:\n",
    "\n",
    "1. Сконструировать класс `BinaryHeap`, реализующий следующие операции над двоичной max-кучей:\n",
    "- `push` - добавление элемента в кучу;\n",
    "- `pop` – получить значение и удалить корневой элемент из кучи.\n",
    "- (дополнительное задание – по желанию) Реализовать конструктор класса, которому в качестве параметра передается список элементов, из которых нужно построить кучу.\n",
    "\n",
    "2. Реализовать класс `TaskQueue` для работы со списком задач. Для каждой задачи задается название и приоритет (число от 1 до 4: 1 – низкий приоритет, 2 – средний приоритет, 3 – высокий приоритет, 4 – критическая задача). Класс должен обеспечивать возможность добавления задач в очередь, извлечение задачи из очереди, смену приоритета задачи из очереди. Для реализации использовать двоичную кучу. Для работы с двоичной кучей использовать библиотеку `heapq`.\n",
    "\n",
    "3. Сравнить время работы очереди с приоритетом на основе 1) отсортированного списка (list) и 2) двоичной кучи (библиотека `heapq`). Для этого рассчитать время заполнения и извлечения всех данных из очереди с приоритетом с использованием обоих методов (списка и кучи) на списках разной длины. Построить на одном графике зависимости времени работы с очередью от размера списка для обоих реализаций. Сделать вывод.\n"
   ]
  },
  {
   "cell_type": "markdown",
   "metadata": {},
   "source": [
    "## Задача 1"
   ]
  },
  {
   "cell_type": "markdown",
   "metadata": {},
   "source": [
    "### Реализация BinaryHeap"
   ]
  },
  {
   "cell_type": "markdown",
   "metadata": {},
   "source": [
    "### Тестирование BinaryHeap"
   ]
  },
  {
   "cell_type": "markdown",
   "metadata": {},
   "source": [
    "## Задача 2"
   ]
  },
  {
   "cell_type": "code",
   "execution_count": 1,
   "metadata": {},
   "outputs": [],
   "source": [
    "from heapq import heappush, heappop, heapify\n",
    "\n",
    "class Task:\n",
    "    def __init__(self, name: str, priority: int):\n",
    "        if not isinstance(priority, int):\n",
    "            raise ValueError\n",
    "\n",
    "        if priority < 1 or priority > 4:\n",
    "            raise ValueError\n",
    "        \n",
    "        self.id = None\n",
    "        self.name = name\n",
    "        self.priority = priority\n",
    "    \n",
    "    def __lt__(self, other):\n",
    "        return self.priority < other.priority\n",
    "\n",
    "    def __str__(self):\n",
    "        return '[ID: {}, priority: {}] {}'.format(self.id, self.priority, self.name)\n",
    "\n",
    "    def __repr__(self):\n",
    "        return '[ID: {}, priority: {}] {}'.format(self.id, self.priority, self.name)\n",
    "\n",
    "class TaskQueue:\n",
    "    def __init__(self):\n",
    "        self.tasks = []\n",
    "        self.next_id = 1\n",
    "\n",
    "    def insert(self, task: Task):\n",
    "        heappush(self.tasks, task)\n",
    "        task.id = self.next_id\n",
    "        self.next_id += 1\n",
    "\n",
    "    def pop(self):\n",
    "        return heappop(self.tasks)\n",
    "    \n",
    "    def changePriority(self, id: int, new_priority: int):\n",
    "        selected_task = None\n",
    "        for task in self.tasks:\n",
    "            if task.id == id:\n",
    "                selected_task = task\n",
    "\n",
    "        selected_task.priority = new_priority\n",
    "        heapify(self.tasks)\n",
    "\n",
    "    def __str__(self):\n",
    "        result = ''\n",
    "        for item in sorted(self.tasks):\n",
    "            result += str(item) + '\\n'\n",
    "        return result\n",
    "\n",
    "    def __repr__(self):\n",
    "        return self.__str__()"
   ]
  },
  {
   "cell_type": "code",
   "execution_count": 2,
   "metadata": {},
   "outputs": [
    {
     "data": {
      "text/plain": [
       "[ID: 5, priority: 1] ProvideIn singleton service among multiple angular instances\n",
       "[ID: 7, priority: 1] Angular.io website is not GDPR compliant\n",
       "[ID: 3, priority: 2] extract-i18n JSON format add support for meaning and description\n",
       "[ID: 6, priority: 3] Animation not working correctly with Angular routing and component reusing (caching)\n",
       "[ID: 1, priority: 3] control.hasError() return unexpected value\n",
       "[ID: 4, priority: 4] Input-Placeholder is empty after resetting a auto-completed input-field in firefox\n",
       "[ID: 2, priority: 4] Expose flushPeriodic from FakeAsync module"
      ]
     },
     "execution_count": 2,
     "metadata": {},
     "output_type": "execute_result"
    }
   ],
   "source": [
    "# Названия тасков не смог придумать, поэтому взял из GitHub-репозитория Angular\n",
    "queue = TaskQueue()\n",
    "queue.insert(Task('control.hasError() return unexpected value', 3))\n",
    "queue.insert(Task('Expose flushPeriodic from FakeAsync module', 4))\n",
    "queue.insert(Task('extract-i18n JSON format add support for meaning and description', 2))\n",
    "queue.insert(Task('Input-Placeholder is empty after resetting a auto-completed input-field in firefox', 4))\n",
    "queue.insert(Task('ProvideIn singleton service among multiple angular instances', 1))\n",
    "queue.insert(Task('Animation not working correctly with Angular routing and component reusing (caching)', 3))\n",
    "queue.insert(Task('Angular.io website is not GDPR compliant', 1))\n",
    "\n",
    "queue"
   ]
  },
  {
   "cell_type": "code",
   "execution_count": 3,
   "metadata": {},
   "outputs": [
    {
     "data": {
      "text/plain": [
       "[ID: 7, priority: 1] Angular.io website is not GDPR compliant\n",
       "[ID: 3, priority: 2] extract-i18n JSON format add support for meaning and description\n",
       "[ID: 6, priority: 3] Animation not working correctly with Angular routing and component reusing (caching)\n",
       "[ID: 1, priority: 3] control.hasError() return unexpected value\n",
       "[ID: 4, priority: 4] Input-Placeholder is empty after resetting a auto-completed input-field in firefox\n",
       "[ID: 2, priority: 4] Expose flushPeriodic from FakeAsync module"
      ]
     },
     "execution_count": 3,
     "metadata": {},
     "output_type": "execute_result"
    }
   ],
   "source": [
    "queue.pop()\n",
    "queue"
   ]
  },
  {
   "cell_type": "code",
   "execution_count": 4,
   "metadata": {},
   "outputs": [
    {
     "data": {
      "text/plain": [
       "[ID: 3, priority: 2] extract-i18n JSON format add support for meaning and description\n",
       "[ID: 1, priority: 3] control.hasError() return unexpected value\n",
       "[ID: 6, priority: 3] Animation not working correctly with Angular routing and component reusing (caching)\n",
       "[ID: 4, priority: 4] Input-Placeholder is empty after resetting a auto-completed input-field in firefox\n",
       "[ID: 2, priority: 4] Expose flushPeriodic from FakeAsync module"
      ]
     },
     "execution_count": 4,
     "metadata": {},
     "output_type": "execute_result"
    }
   ],
   "source": [
    "queue.pop()\n",
    "queue"
   ]
  },
  {
   "cell_type": "code",
   "execution_count": 5,
   "metadata": {},
   "outputs": [
    {
     "data": {
      "text/plain": [
       "[ID: 6, priority: 3] Animation not working correctly with Angular routing and component reusing (caching)\n",
       "[ID: 1, priority: 3] control.hasError() return unexpected value\n",
       "[ID: 2, priority: 4] Expose flushPeriodic from FakeAsync module\n",
       "[ID: 4, priority: 4] Input-Placeholder is empty after resetting a auto-completed input-field in firefox"
      ]
     },
     "execution_count": 5,
     "metadata": {},
     "output_type": "execute_result"
    }
   ],
   "source": [
    "queue.pop()\n",
    "queue"
   ]
  },
  {
   "cell_type": "code",
   "execution_count": 6,
   "metadata": {},
   "outputs": [
    {
     "data": {
      "text/plain": [
       "[ID: 1, priority: 3] control.hasError() return unexpected value\n",
       "[ID: 4, priority: 4] Input-Placeholder is empty after resetting a auto-completed input-field in firefox\n",
       "[ID: 2, priority: 4] Expose flushPeriodic from FakeAsync module"
      ]
     },
     "execution_count": 6,
     "metadata": {},
     "output_type": "execute_result"
    }
   ],
   "source": [
    "queue.pop()\n",
    "queue"
   ]
  },
  {
   "cell_type": "code",
   "execution_count": 7,
   "metadata": {},
   "outputs": [
    {
     "data": {
      "text/plain": [
       "[ID: 4, priority: 1] Input-Placeholder is empty after resetting a auto-completed input-field in firefox\n",
       "[ID: 1, priority: 3] control.hasError() return unexpected value\n",
       "[ID: 2, priority: 4] Expose flushPeriodic from FakeAsync module"
      ]
     },
     "execution_count": 7,
     "metadata": {},
     "output_type": "execute_result"
    }
   ],
   "source": [
    "queue.changePriority(4, 1)\n",
    "queue"
   ]
  },
  {
   "cell_type": "markdown",
   "metadata": {},
   "source": [
    "## Вывод"
   ]
  },
  {
   "cell_type": "markdown",
   "metadata": {},
   "source": [
    "В ходе практической работы была реализована двоичная куча. Проведено сравнение реализованной кучи с библиотечной реализацией `heapq`."
   ]
  }
 ],
 "metadata": {
  "interpreter": {
   "hash": "b3ba2566441a7c06988d0923437866b63cedc61552a5af99d1f4fb67d367b25f"
  },
  "kernelspec": {
   "display_name": "Python 3.9.7 ('base')",
   "language": "python",
   "name": "python3"
  },
  "language_info": {
   "codemirror_mode": {
    "name": "ipython",
    "version": 3
   },
   "file_extension": ".py",
   "mimetype": "text/x-python",
   "name": "python",
   "nbconvert_exporter": "python",
   "pygments_lexer": "ipython3",
   "version": "3.9.7"
  },
  "orig_nbformat": 4
 },
 "nbformat": 4,
 "nbformat_minor": 2
}
