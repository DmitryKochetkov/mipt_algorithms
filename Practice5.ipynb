{
 "cells": [
  {
   "cell_type": "markdown",
   "metadata": {},
   "source": [
    "# Практическая работа №5"
   ]
  },
  {
   "cell_type": "markdown",
   "metadata": {},
   "source": [
    "Выполнил студент группы М06-106н Кочетков Дмитрий Андреевич."
   ]
  },
  {
   "cell_type": "markdown",
   "metadata": {},
   "source": [
    "## Постановка задачи"
   ]
  },
  {
   "cell_type": "markdown",
   "metadata": {},
   "source": [
    "Необходимо выполнить все следующие задачи:\n",
    "\n",
    "1. Сконструировать класс `BinaryHeap`, реализующий следующие операции над двоичной max-кучей:\n",
    "- `push` - добавление элемента в кучу;\n",
    "- `pop` – получить значение и удалить корневой элемент из кучи.\n",
    "- (дополнительное задание – по желанию) Реализовать конструктор класса, которому в качестве параметра передается список элементов, из которых нужно построить кучу.\n",
    "\n",
    "2. Реализовать класс `TaskQueue` для работы со списком задач. Для каждой задачи задается название и приоритет (число от 1 до 4: 1 – низкий приоритет, 2 – средний приоритет, 3 – высокий приоритет, 4 – критическая задача). Класс должен обеспечивать возможность добавления задач в очередь, извлечение задачи из очереди, смену приоритета задачи из очереди. Для реализации использовать двоичную кучу. Для работы с двоичной кучей использовать библиотеку `heapq`.\n",
    "\n",
    "3. Сравнить время работы очереди с приоритетом на основе 1) отсортированного списка (list) и 2) двоичной кучи (библиотека `heapq`). Для этого рассчитать время заполнения и извлечения всех данных из очереди с приоритетом с использованием обоих методов (списка и кучи) на списках разной длины. Построить на одном графике зависимости времени работы с очередью от размера списка для обоих реализаций. Сделать вывод.\n"
   ]
  },
  {
   "cell_type": "markdown",
   "metadata": {},
   "source": [
    "## Задача 1"
   ]
  },
  {
   "cell_type": "markdown",
   "metadata": {},
   "source": [
    "### Реализация BinaryHeap"
   ]
  },
  {
   "cell_type": "code",
   "execution_count": 61,
   "metadata": {},
   "outputs": [],
   "source": [
    "\"\"\"\n",
    "Двоичная max-куча на основе отсортированного списка.\n",
    "\"\"\"\n",
    "class BinaryHeap:\n",
    "    def __init__(self):\n",
    "        self.elements = []\n",
    "\n",
    "    \"\"\"\n",
    "    Находит value в куче и возвращает индекс его родительской вершины.\n",
    "    \"\"\"\n",
    "    def parentIndex(self, value):\n",
    "        index = self.elements.index(value)\n",
    "        result = (index - 1) // 2\n",
    "        if result >= 0 and result < len(self.elements):\n",
    "            return result\n",
    "\n",
    "        return None\n",
    "\n",
    "    \"\"\"\n",
    "    Находит value в куче и возвращает индекс его левого потомка.\n",
    "    \"\"\"\n",
    "    def leftChildIndex(self, value):\n",
    "        index = self.elements.index(value)\n",
    "        result = 2 * index + 1\n",
    "        if result >= 0 and result < len(self.elements):\n",
    "            return result\n",
    "\n",
    "        return None\n",
    "\n",
    "    \"\"\"\n",
    "    Находит value в куче и возвращает индекс его правого потомка.\n",
    "    \"\"\"\n",
    "    def rightChildIndex(self, value):\n",
    "        index = self.elements.index(value)\n",
    "        result = 2 * index + 2\n",
    "        if result >= 0 and result < len(self.elements):\n",
    "            return result\n",
    "\n",
    "        return None\n",
    "\n",
    "    \"\"\"\n",
    "    Меняет местами два элемента в списке на заданных позициях.\n",
    "    \"\"\"\n",
    "    def __swap__(self, i, j):\n",
    "        self.elements[i], self.elements[j] = self.elements[j], self.elements[i]\n",
    "\n",
    "    \"\"\"\n",
    "    Восстанавливает корректность дерева при проходе вверх от заданной вершины\n",
    "    \"\"\"\n",
    "    def __bottom_up__(self, index):\n",
    "        root_index = self.parentIndex(self.elements[index])\n",
    "        \n",
    "        if root_index == None:\n",
    "            return\n",
    "    \n",
    "        if self.elements[index] > self.elements[root_index]:\n",
    "            self.__swap__(index,root_index)\n",
    "            self.__bottom_up__(root_index)\n",
    "\n",
    "    \"\"\"\n",
    "    Восстанавливает корректность дерева при проходе вниз от заданной вершины\n",
    "    \"\"\"\n",
    "    def __top_down__(self, index):\n",
    "        child_index = 2 * index + 1\n",
    "        if child_index >= len(self.elements):\n",
    "            return\n",
    "    \n",
    "        if child_index + 1 < len(self.elements) and self.elements[child_index] < self.elements[child_index + 1]:\n",
    "            child_index += 1\n",
    "    \n",
    "        if self.elements[child_index] > self.elements[index]:\n",
    "            self.__swap__(child_index, index)\n",
    "            self.__top_down__(child_index)\n",
    "    \n",
    "    \"\"\"\n",
    "    Добавление нового значения в кучу.\n",
    "    \"\"\"\n",
    "    def push(self, value):\n",
    "        self.elements.append(value)\n",
    "        self.__bottom_up__(len(self.elements) - 1)\n",
    "\n",
    "    \"\"\"\n",
    "    Удаление корневого элемента с возвратом значения.\n",
    "    \"\"\"\n",
    "    def pop(self):\n",
    "        if len(self.elements) == 0:\n",
    "            return None\n",
    "        \n",
    "        self.__swap__(len(self.elements) - 1, 0)\n",
    "\n",
    "        root_value = self.elements.pop()\n",
    "        self.__top_down__(0)\n",
    "\n",
    "        return root_value\n",
    "\n",
    "    def __str__(self, index = None, level=0):\n",
    "        if index == None:\n",
    "            index = 0\n",
    "        \n",
    "        value = self.elements[index]\n",
    "        ret = \"   \" * level + repr(value) + \"\\n\"\n",
    "        if self.leftChildIndex(value) != None:\n",
    "            ret += self.__str__(self.leftChildIndex(value), level+1)\n",
    "        if self.rightChildIndex(value) != None:\n",
    "            ret += self.__str__(self.rightChildIndex(value), level+1)\n",
    "        return ret\n",
    "\n",
    "    def __repr__(self):\n",
    "        return self.__str__(level=0)"
   ]
  },
  {
   "cell_type": "markdown",
   "metadata": {},
   "source": [
    "### Тестирование BinaryHeap"
   ]
  },
  {
   "cell_type": "code",
   "execution_count": 62,
   "metadata": {},
   "outputs": [
    {
     "data": {
      "text/plain": [
       "84\n",
       "   22\n",
       "      15\n",
       "         5\n",
       "         6\n",
       "      10\n",
       "         9\n",
       "   19\n",
       "      3\n",
       "      17"
      ]
     },
     "execution_count": 62,
     "metadata": {},
     "output_type": "execute_result"
    }
   ],
   "source": [
    "maxHeap = BinaryHeap()\n",
    "maxHeap.push(15)\n",
    "maxHeap.push(5)\n",
    "maxHeap.push(3)\n",
    "maxHeap.push(17)\n",
    "maxHeap.push(10)\n",
    "maxHeap.push(84)\n",
    "maxHeap.push(19)\n",
    "maxHeap.push(6)\n",
    "maxHeap.push(22)\n",
    "maxHeap.push(9)\n",
    "maxHeap"
   ]
  },
  {
   "cell_type": "code",
   "execution_count": 63,
   "metadata": {},
   "outputs": [
    {
     "name": "stdout",
     "output_type": "stream",
     "text": [
      "84\n"
     ]
    },
    {
     "data": {
      "text/plain": [
       "22\n",
       "   15\n",
       "      9\n",
       "         5\n",
       "         6\n",
       "      10\n",
       "   19\n",
       "      3\n",
       "      17"
      ]
     },
     "execution_count": 63,
     "metadata": {},
     "output_type": "execute_result"
    }
   ],
   "source": [
    "print(maxHeap.pop())\n",
    "maxHeap"
   ]
  },
  {
   "cell_type": "code",
   "execution_count": 64,
   "metadata": {},
   "outputs": [
    {
     "name": "stdout",
     "output_type": "stream",
     "text": [
      "22\n"
     ]
    },
    {
     "data": {
      "text/plain": [
       "19\n",
       "   15\n",
       "      9\n",
       "         5\n",
       "      10\n",
       "   17\n",
       "      3\n",
       "      6"
      ]
     },
     "execution_count": 64,
     "metadata": {},
     "output_type": "execute_result"
    }
   ],
   "source": [
    "print(maxHeap.pop())\n",
    "maxHeap"
   ]
  },
  {
   "cell_type": "code",
   "execution_count": 58,
   "metadata": {},
   "outputs": [
    {
     "name": "stdout",
     "output_type": "stream",
     "text": [
      "15\n"
     ]
    },
    {
     "data": {
      "text/plain": [
       "9\n",
       "   6\n",
       "      5\n",
       "      10\n",
       "   19\n",
       "      3\n",
       "      17"
      ]
     },
     "execution_count": 58,
     "metadata": {},
     "output_type": "execute_result"
    }
   ],
   "source": [
    "print(maxHeap.pop())\n",
    "maxHeap"
   ]
  },
  {
   "cell_type": "markdown",
   "metadata": {},
   "source": [
    "## Задача 2"
   ]
  },
  {
   "cell_type": "code",
   "execution_count": 4,
   "metadata": {},
   "outputs": [],
   "source": [
    "from heapq import heappush, heappop, heapify\n",
    "\n",
    "class Task:\n",
    "    def __init__(self, name: str, priority: int):\n",
    "        if not isinstance(priority, int):\n",
    "            raise ValueError\n",
    "\n",
    "        if priority < 1 or priority > 4:\n",
    "            raise ValueError\n",
    "        \n",
    "        self.id = None\n",
    "        self.name = name\n",
    "        self.priority = priority\n",
    "    \n",
    "    def __lt__(self, other):\n",
    "        return self.priority < other.priority\n",
    "\n",
    "    def __str__(self):\n",
    "        return '[ID: {}, priority: {}] {}'.format(self.id, self.priority, self.name)\n",
    "\n",
    "    def __repr__(self):\n",
    "        return '[ID: {}, priority: {}] {}'.format(self.id, self.priority, self.name)\n",
    "\n",
    "class TaskQueue:\n",
    "    def __init__(self):\n",
    "        self.tasks = []\n",
    "        self.next_id = 1\n",
    "\n",
    "    def insert(self, task: Task):\n",
    "        heappush(self.tasks, task)\n",
    "        task.id = self.next_id\n",
    "        self.next_id += 1\n",
    "\n",
    "    def pop(self):\n",
    "        return heappop(self.tasks)\n",
    "    \n",
    "    def changePriority(self, id: int, new_priority: int):\n",
    "        selected_task = None\n",
    "        for task in self.tasks:\n",
    "            if task.id == id:\n",
    "                selected_task = task\n",
    "\n",
    "        selected_task.priority = new_priority\n",
    "        heapify(self.tasks)\n",
    "\n",
    "    def __str__(self):\n",
    "        result = ''\n",
    "        for item in sorted(self.tasks):\n",
    "            result += str(item) + '\\n'\n",
    "        return result\n",
    "\n",
    "    def __repr__(self):\n",
    "        return self.__str__()"
   ]
  },
  {
   "cell_type": "code",
   "execution_count": 4,
   "metadata": {},
   "outputs": [
    {
     "data": {
      "text/plain": [
       "[ID: 5, priority: 1] ProvideIn singleton service among multiple angular instances\n",
       "[ID: 7, priority: 1] Angular.io website is not GDPR compliant\n",
       "[ID: 3, priority: 2] extract-i18n JSON format add support for meaning and description\n",
       "[ID: 6, priority: 3] Animation not working correctly with Angular routing and component reusing (caching)\n",
       "[ID: 1, priority: 3] control.hasError() return unexpected value\n",
       "[ID: 4, priority: 4] Input-Placeholder is empty after resetting a auto-completed input-field in firefox\n",
       "[ID: 2, priority: 4] Expose flushPeriodic from FakeAsync module"
      ]
     },
     "execution_count": 4,
     "metadata": {},
     "output_type": "execute_result"
    }
   ],
   "source": [
    "# Названия тасков не смог придумать, поэтому взял из GitHub-репозитория Angular\n",
    "queue = TaskQueue()\n",
    "queue.insert(Task('control.hasError() return unexpected value', 3))\n",
    "queue.insert(Task('Expose flushPeriodic from FakeAsync module', 4))\n",
    "queue.insert(Task('extract-i18n JSON format add support for meaning and description', 2))\n",
    "queue.insert(Task('Input-Placeholder is empty after resetting a auto-completed input-field in firefox', 4))\n",
    "queue.insert(Task('ProvideIn singleton service among multiple angular instances', 1))\n",
    "queue.insert(Task('Animation not working correctly with Angular routing and component reusing (caching)', 3))\n",
    "queue.insert(Task('Angular.io website is not GDPR compliant', 1))\n",
    "\n",
    "queue"
   ]
  },
  {
   "cell_type": "code",
   "execution_count": 5,
   "metadata": {},
   "outputs": [
    {
     "data": {
      "text/plain": [
       "[ID: 7, priority: 1] Angular.io website is not GDPR compliant\n",
       "[ID: 3, priority: 2] extract-i18n JSON format add support for meaning and description\n",
       "[ID: 6, priority: 3] Animation not working correctly with Angular routing and component reusing (caching)\n",
       "[ID: 1, priority: 3] control.hasError() return unexpected value\n",
       "[ID: 4, priority: 4] Input-Placeholder is empty after resetting a auto-completed input-field in firefox\n",
       "[ID: 2, priority: 4] Expose flushPeriodic from FakeAsync module"
      ]
     },
     "execution_count": 5,
     "metadata": {},
     "output_type": "execute_result"
    }
   ],
   "source": [
    "queue.pop()\n",
    "queue"
   ]
  },
  {
   "cell_type": "code",
   "execution_count": 6,
   "metadata": {},
   "outputs": [
    {
     "data": {
      "text/plain": [
       "[ID: 3, priority: 2] extract-i18n JSON format add support for meaning and description\n",
       "[ID: 1, priority: 3] control.hasError() return unexpected value\n",
       "[ID: 6, priority: 3] Animation not working correctly with Angular routing and component reusing (caching)\n",
       "[ID: 4, priority: 4] Input-Placeholder is empty after resetting a auto-completed input-field in firefox\n",
       "[ID: 2, priority: 4] Expose flushPeriodic from FakeAsync module"
      ]
     },
     "execution_count": 6,
     "metadata": {},
     "output_type": "execute_result"
    }
   ],
   "source": [
    "queue.pop()\n",
    "queue"
   ]
  },
  {
   "cell_type": "code",
   "execution_count": 7,
   "metadata": {},
   "outputs": [
    {
     "data": {
      "text/plain": [
       "[ID: 6, priority: 3] Animation not working correctly with Angular routing and component reusing (caching)\n",
       "[ID: 1, priority: 3] control.hasError() return unexpected value\n",
       "[ID: 2, priority: 4] Expose flushPeriodic from FakeAsync module\n",
       "[ID: 4, priority: 4] Input-Placeholder is empty after resetting a auto-completed input-field in firefox"
      ]
     },
     "execution_count": 7,
     "metadata": {},
     "output_type": "execute_result"
    }
   ],
   "source": [
    "queue.pop()\n",
    "queue"
   ]
  },
  {
   "cell_type": "code",
   "execution_count": 8,
   "metadata": {},
   "outputs": [
    {
     "data": {
      "text/plain": [
       "[ID: 1, priority: 3] control.hasError() return unexpected value\n",
       "[ID: 4, priority: 4] Input-Placeholder is empty after resetting a auto-completed input-field in firefox\n",
       "[ID: 2, priority: 4] Expose flushPeriodic from FakeAsync module"
      ]
     },
     "execution_count": 8,
     "metadata": {},
     "output_type": "execute_result"
    }
   ],
   "source": [
    "queue.pop()\n",
    "queue"
   ]
  },
  {
   "cell_type": "code",
   "execution_count": 9,
   "metadata": {},
   "outputs": [
    {
     "data": {
      "text/plain": [
       "[ID: 4, priority: 1] Input-Placeholder is empty after resetting a auto-completed input-field in firefox\n",
       "[ID: 1, priority: 3] control.hasError() return unexpected value\n",
       "[ID: 2, priority: 4] Expose flushPeriodic from FakeAsync module"
      ]
     },
     "execution_count": 9,
     "metadata": {},
     "output_type": "execute_result"
    }
   ],
   "source": [
    "queue.changePriority(4, 1)\n",
    "queue"
   ]
  },
  {
   "cell_type": "markdown",
   "metadata": {},
   "source": [
    "## Задача 3"
   ]
  },
  {
   "cell_type": "code",
   "execution_count": 59,
   "metadata": {},
   "outputs": [
    {
     "ename": "IndexError",
     "evalue": "list index out of range",
     "output_type": "error",
     "traceback": [
      "\u001b[1;31m---------------------------------------------------------------------------\u001b[0m",
      "\u001b[1;31mIndexError\u001b[0m                                Traceback (most recent call last)",
      "\u001b[1;32m~\\AppData\\Local\\Temp/ipykernel_21996/2835094248.py\u001b[0m in \u001b[0;36m<module>\u001b[1;34m\u001b[0m\n\u001b[0;32m     28\u001b[0m \u001b[1;33m\u001b[0m\u001b[0m\n\u001b[0;32m     29\u001b[0m     \u001b[1;32mfor\u001b[0m \u001b[0mi\u001b[0m \u001b[1;32min\u001b[0m \u001b[0mrange\u001b[0m\u001b[1;33m(\u001b[0m\u001b[0mlen\u001b[0m\u001b[1;33m(\u001b[0m\u001b[0mvalues\u001b[0m\u001b[1;33m)\u001b[0m\u001b[1;33m)\u001b[0m\u001b[1;33m:\u001b[0m\u001b[1;33m\u001b[0m\u001b[1;33m\u001b[0m\u001b[0m\n\u001b[1;32m---> 30\u001b[1;33m         \u001b[0mheap_from_scratch\u001b[0m\u001b[1;33m.\u001b[0m\u001b[0mpop\u001b[0m\u001b[1;33m(\u001b[0m\u001b[1;33m)\u001b[0m\u001b[1;33m\u001b[0m\u001b[1;33m\u001b[0m\u001b[0m\n\u001b[0m\u001b[0;32m     31\u001b[0m \u001b[1;33m\u001b[0m\u001b[0m\n\u001b[0;32m     32\u001b[0m     \u001b[0minsertion_time_from_scratch\u001b[0m\u001b[1;33m.\u001b[0m\u001b[0mappend\u001b[0m\u001b[1;33m(\u001b[0m\u001b[0mtime\u001b[0m\u001b[1;33m.\u001b[0m\u001b[0mtime\u001b[0m\u001b[1;33m(\u001b[0m\u001b[1;33m)\u001b[0m \u001b[1;33m-\u001b[0m \u001b[0mstart_time\u001b[0m\u001b[1;33m)\u001b[0m\u001b[1;33m\u001b[0m\u001b[1;33m\u001b[0m\u001b[0m\n",
      "\u001b[1;32m~\\AppData\\Local\\Temp/ipykernel_21996/1123628290.py\u001b[0m in \u001b[0;36mpop\u001b[1;34m(self)\u001b[0m\n\u001b[0;32m     90\u001b[0m \u001b[1;33m\u001b[0m\u001b[0m\n\u001b[0;32m     91\u001b[0m         \u001b[0mroot_value\u001b[0m \u001b[1;33m=\u001b[0m \u001b[0mself\u001b[0m\u001b[1;33m.\u001b[0m\u001b[0melements\u001b[0m\u001b[1;33m.\u001b[0m\u001b[0mpop\u001b[0m\u001b[1;33m(\u001b[0m\u001b[1;33m)\u001b[0m\u001b[1;33m\u001b[0m\u001b[1;33m\u001b[0m\u001b[0m\n\u001b[1;32m---> 92\u001b[1;33m         \u001b[0mself\u001b[0m\u001b[1;33m.\u001b[0m\u001b[0m__top_down__\u001b[0m\u001b[1;33m(\u001b[0m\u001b[1;36m0\u001b[0m\u001b[1;33m)\u001b[0m\u001b[1;33m\u001b[0m\u001b[1;33m\u001b[0m\u001b[0m\n\u001b[0m\u001b[0;32m     93\u001b[0m \u001b[1;33m\u001b[0m\u001b[0m\n\u001b[0;32m     94\u001b[0m         \u001b[1;32mreturn\u001b[0m \u001b[0mroot_value\u001b[0m\u001b[1;33m\u001b[0m\u001b[1;33m\u001b[0m\u001b[0m\n",
      "\u001b[1;32m~\\AppData\\Local\\Temp/ipykernel_21996/1123628290.py\u001b[0m in \u001b[0;36m__top_down__\u001b[1;34m(self, index)\u001b[0m\n\u001b[0;32m     62\u001b[0m     \"\"\"\n\u001b[0;32m     63\u001b[0m     \u001b[1;32mdef\u001b[0m \u001b[0m__top_down__\u001b[0m\u001b[1;33m(\u001b[0m\u001b[0mself\u001b[0m\u001b[1;33m,\u001b[0m \u001b[0mindex\u001b[0m\u001b[1;33m)\u001b[0m\u001b[1;33m:\u001b[0m\u001b[1;33m\u001b[0m\u001b[1;33m\u001b[0m\u001b[0m\n\u001b[1;32m---> 64\u001b[1;33m         \u001b[0mleft_child_index\u001b[0m \u001b[1;33m=\u001b[0m \u001b[0mself\u001b[0m\u001b[1;33m.\u001b[0m\u001b[0mleftChildIndex\u001b[0m\u001b[1;33m(\u001b[0m\u001b[0mself\u001b[0m\u001b[1;33m.\u001b[0m\u001b[0melements\u001b[0m\u001b[1;33m[\u001b[0m\u001b[0mindex\u001b[0m\u001b[1;33m]\u001b[0m\u001b[1;33m)\u001b[0m\u001b[1;33m\u001b[0m\u001b[1;33m\u001b[0m\u001b[0m\n\u001b[0m\u001b[0;32m     65\u001b[0m         \u001b[0mright_child_index\u001b[0m \u001b[1;33m=\u001b[0m \u001b[0mself\u001b[0m\u001b[1;33m.\u001b[0m\u001b[0mleftChildIndex\u001b[0m\u001b[1;33m(\u001b[0m\u001b[0mself\u001b[0m\u001b[1;33m.\u001b[0m\u001b[0melements\u001b[0m\u001b[1;33m[\u001b[0m\u001b[0mindex\u001b[0m\u001b[1;33m]\u001b[0m\u001b[1;33m)\u001b[0m\u001b[1;33m\u001b[0m\u001b[1;33m\u001b[0m\u001b[0m\n\u001b[0;32m     66\u001b[0m         \u001b[0mselected_index\u001b[0m \u001b[1;33m=\u001b[0m \u001b[0mleft_child_index\u001b[0m\u001b[1;33m\u001b[0m\u001b[1;33m\u001b[0m\u001b[0m\n",
      "\u001b[1;31mIndexError\u001b[0m: list index out of range"
     ]
    }
   ],
   "source": [
    "import random\n",
    "import time\n",
    "from matplotlib import pyplot as plt\n",
    "\n",
    "sizes = list()\n",
    "insertion_time_from_scratch = list()\n",
    "insertion_time_lib = list()\n",
    "\n",
    "for size in range(1, 1000):\n",
    "    sizes.append(size)\n",
    "    values = random.sample(range(1, 20000), size)\n",
    "\n",
    "    heap_from_scratch = BinaryHeap()\n",
    "    heap_lib = list()\n",
    "\n",
    "    start_time = time.time()\n",
    "    for item in values:\n",
    "        heappush(heap_lib, item)\n",
    "    \n",
    "    for i in range(len(heap_lib)):\n",
    "        heappop(heap_lib)\n",
    "\n",
    "    insertion_time_lib.append(time.time() - start_time)\n",
    "\n",
    "    start_time = time.time()\n",
    "    for item in values:\n",
    "        heap_from_scratch.push(item)\n",
    "    \n",
    "    for i in range(len(values)):\n",
    "        heap_from_scratch.pop()\n",
    "\n",
    "    insertion_time_from_scratch.append(time.time() - start_time)\n",
    "\n",
    "\n",
    "plt.plot(sizes, insertion_time_lib)\n",
    "plt.plot(sizes, insertion_time_from_scratch)\n",
    "plt.show()"
   ]
  },
  {
   "cell_type": "markdown",
   "metadata": {},
   "source": [
    "## Вывод"
   ]
  },
  {
   "cell_type": "markdown",
   "metadata": {},
   "source": [
    "В ходе практической работы была реализована двоичная куча. Проведено сравнение реализованной кучи с библиотечной реализацией `heapq`."
   ]
  }
 ],
 "metadata": {
  "interpreter": {
   "hash": "b3ba2566441a7c06988d0923437866b63cedc61552a5af99d1f4fb67d367b25f"
  },
  "kernelspec": {
   "display_name": "Python 3.9.7 ('base')",
   "language": "python",
   "name": "python3"
  },
  "language_info": {
   "codemirror_mode": {
    "name": "ipython",
    "version": 3
   },
   "file_extension": ".py",
   "mimetype": "text/x-python",
   "name": "python",
   "nbconvert_exporter": "python",
   "pygments_lexer": "ipython3",
   "version": "3.9.7"
  },
  "orig_nbformat": 4
 },
 "nbformat": 4,
 "nbformat_minor": 2
}
